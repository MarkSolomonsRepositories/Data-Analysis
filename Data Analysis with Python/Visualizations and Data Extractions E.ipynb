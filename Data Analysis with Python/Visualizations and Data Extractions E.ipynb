{
 "cells": [
  {
   "cell_type": "code",
   "execution_count": 1,
   "id": "71f211b3",
   "metadata": {},
   "outputs": [],
   "source": [
    "import pandas as pd\n",
    "import numpy as np\n",
    "import matplotlib.pyplot as plt\n",
    "import seaborn as sns\n",
    "sns.set_style(\"darkgrid\")\n",
    "\n",
    "\n",
    "import scipy.stats as si\n",
    "import sympy as sy\n",
    "from sympy.stats import Normal, cdf\n",
    "from sympy import init_printing\n",
    "init_printing()\n",
    "\n",
    "import yfinance as yf\n",
    "\n",
    "from pypfopt import EfficientFrontier\n",
    "from pypfopt import risk_models\n",
    "from pypfopt import expected_returns\n",
    "from scipy.optimize import minimize\n",
    "\n",
    "import pandas_datareader.data as web\n",
    "import datetime as dt\n",
    "from pandas_datareader.nasdaq_trader import get_nasdaq_symbols\n",
    "import plotly.graph_objects as go\n",
    "from numpy import random ; from random import randint\n",
    "from matplotlib import cm\n"
   ]
  },
  {
   "cell_type": "code",
   "execution_count": 3,
   "id": "d96684af",
   "metadata": {},
   "outputs": [
    {
     "data": {
      "text/html": [
       "<div>\n",
       "<style scoped>\n",
       "    .dataframe tbody tr th:only-of-type {\n",
       "        vertical-align: middle;\n",
       "    }\n",
       "\n",
       "    .dataframe tbody tr th {\n",
       "        vertical-align: top;\n",
       "    }\n",
       "\n",
       "    .dataframe thead th {\n",
       "        text-align: right;\n",
       "    }\n",
       "</style>\n",
       "<table border=\"1\" class=\"dataframe\">\n",
       "  <thead>\n",
       "    <tr style=\"text-align: right;\">\n",
       "      <th></th>\n",
       "      <th>Date</th>\n",
       "      <th>Open</th>\n",
       "      <th>High</th>\n",
       "      <th>Low</th>\n",
       "      <th>Close</th>\n",
       "      <th>Adj Close</th>\n",
       "      <th>Volume</th>\n",
       "    </tr>\n",
       "  </thead>\n",
       "  <tbody>\n",
       "    <tr>\n",
       "      <th>0</th>\n",
       "      <td>2022-02-28</td>\n",
       "      <td>3048.500000</td>\n",
       "      <td>3089.000000</td>\n",
       "      <td>3017.000000</td>\n",
       "      <td>3071.260010</td>\n",
       "      <td>3071.260010</td>\n",
       "      <td>2878500</td>\n",
       "    </tr>\n",
       "    <tr>\n",
       "      <th>1</th>\n",
       "      <td>2022-03-01</td>\n",
       "      <td>3054.649902</td>\n",
       "      <td>3081.979980</td>\n",
       "      <td>2999.540039</td>\n",
       "      <td>3022.840088</td>\n",
       "      <td>3022.840088</td>\n",
       "      <td>2243700</td>\n",
       "    </tr>\n",
       "    <tr>\n",
       "      <th>2</th>\n",
       "      <td>2022-03-02</td>\n",
       "      <td>3016.979980</td>\n",
       "      <td>3059.989990</td>\n",
       "      <td>2975.000000</td>\n",
       "      <td>3041.050049</td>\n",
       "      <td>3041.050049</td>\n",
       "      <td>2366700</td>\n",
       "    </tr>\n",
       "    <tr>\n",
       "      <th>3</th>\n",
       "      <td>2022-03-03</td>\n",
       "      <td>3070.629883</td>\n",
       "      <td>3078.580078</td>\n",
       "      <td>2937.120117</td>\n",
       "      <td>2957.969971</td>\n",
       "      <td>2957.969971</td>\n",
       "      <td>3259900</td>\n",
       "    </tr>\n",
       "    <tr>\n",
       "      <th>4</th>\n",
       "      <td>2022-03-04</td>\n",
       "      <td>2943.179932</td>\n",
       "      <td>2957.000000</td>\n",
       "      <td>2876.139893</td>\n",
       "      <td>2912.820068</td>\n",
       "      <td>2912.820068</td>\n",
       "      <td>3046700</td>\n",
       "    </tr>\n",
       "  </tbody>\n",
       "</table>\n",
       "</div>"
      ],
      "text/plain": [
       "         Date         Open         High          Low        Close  \\\n",
       "0  2022-02-28  3048.500000  3089.000000  3017.000000  3071.260010   \n",
       "1  2022-03-01  3054.649902  3081.979980  2999.540039  3022.840088   \n",
       "2  2022-03-02  3016.979980  3059.989990  2975.000000  3041.050049   \n",
       "3  2022-03-03  3070.629883  3078.580078  2937.120117  2957.969971   \n",
       "4  2022-03-04  2943.179932  2957.000000  2876.139893  2912.820068   \n",
       "\n",
       "     Adj Close   Volume  \n",
       "0  3071.260010  2878500  \n",
       "1  3022.840088  2243700  \n",
       "2  3041.050049  2366700  \n",
       "3  2957.969971  3259900  \n",
       "4  2912.820068  3046700  "
      ]
     },
     "execution_count": 3,
     "metadata": {},
     "output_type": "execute_result"
    }
   ],
   "source": [
    "amzn=pd.read_csv('AMZN_small.csv')\n",
    "amzn.head()"
   ]
  },
  {
   "cell_type": "code",
   "execution_count": 4,
   "id": "1f5e4456",
   "metadata": {},
   "outputs": [
    {
     "data": {
      "text/html": [
       "<div>\n",
       "<style scoped>\n",
       "    .dataframe tbody tr th:only-of-type {\n",
       "        vertical-align: middle;\n",
       "    }\n",
       "\n",
       "    .dataframe tbody tr th {\n",
       "        vertical-align: top;\n",
       "    }\n",
       "\n",
       "    .dataframe thead th {\n",
       "        text-align: right;\n",
       "    }\n",
       "</style>\n",
       "<table border=\"1\" class=\"dataframe\">\n",
       "  <thead>\n",
       "    <tr style=\"text-align: right;\">\n",
       "      <th></th>\n",
       "      <th>Date</th>\n",
       "      <th>Open</th>\n",
       "      <th>High</th>\n",
       "      <th>Low</th>\n",
       "      <th>Close</th>\n",
       "      <th>Adj Close</th>\n",
       "      <th>Volume</th>\n",
       "    </tr>\n",
       "  </thead>\n",
       "  <tbody>\n",
       "    <tr>\n",
       "      <th>16</th>\n",
       "      <td>2022-03-22</td>\n",
       "      <td>3236.110107</td>\n",
       "      <td>3323.340088</td>\n",
       "      <td>3233.97998</td>\n",
       "      <td>3297.780029</td>\n",
       "      <td>3297.780029</td>\n",
       "      <td>3204300</td>\n",
       "    </tr>\n",
       "    <tr>\n",
       "      <th>17</th>\n",
       "      <td>2022-03-23</td>\n",
       "      <td>3274.100098</td>\n",
       "      <td>3327.399902</td>\n",
       "      <td>3253.73999</td>\n",
       "      <td>3268.159912</td>\n",
       "      <td>3268.159912</td>\n",
       "      <td>2790600</td>\n",
       "    </tr>\n",
       "    <tr>\n",
       "      <th>18</th>\n",
       "      <td>2022-03-24</td>\n",
       "      <td>3274.989990</td>\n",
       "      <td>3282.370117</td>\n",
       "      <td>3201.00000</td>\n",
       "      <td>3272.989990</td>\n",
       "      <td>3272.989990</td>\n",
       "      <td>2839900</td>\n",
       "    </tr>\n",
       "    <tr>\n",
       "      <th>19</th>\n",
       "      <td>2022-03-25</td>\n",
       "      <td>3280.000000</td>\n",
       "      <td>3307.370117</td>\n",
       "      <td>3245.00000</td>\n",
       "      <td>3295.469971</td>\n",
       "      <td>3295.469971</td>\n",
       "      <td>2451600</td>\n",
       "    </tr>\n",
       "    <tr>\n",
       "      <th>20</th>\n",
       "      <td>2022-03-25</td>\n",
       "      <td>3280.000000</td>\n",
       "      <td>3307.370117</td>\n",
       "      <td>3247.48999</td>\n",
       "      <td>3295.469971</td>\n",
       "      <td>3295.469971</td>\n",
       "      <td>2454275</td>\n",
       "    </tr>\n",
       "  </tbody>\n",
       "</table>\n",
       "</div>"
      ],
      "text/plain": [
       "          Date         Open         High         Low        Close  \\\n",
       "16  2022-03-22  3236.110107  3323.340088  3233.97998  3297.780029   \n",
       "17  2022-03-23  3274.100098  3327.399902  3253.73999  3268.159912   \n",
       "18  2022-03-24  3274.989990  3282.370117  3201.00000  3272.989990   \n",
       "19  2022-03-25  3280.000000  3307.370117  3245.00000  3295.469971   \n",
       "20  2022-03-25  3280.000000  3307.370117  3247.48999  3295.469971   \n",
       "\n",
       "      Adj Close   Volume  \n",
       "16  3297.780029  3204300  \n",
       "17  3268.159912  2790600  \n",
       "18  3272.989990  2839900  \n",
       "19  3295.469971  2451600  \n",
       "20  3295.469971  2454275  "
      ]
     },
     "execution_count": 4,
     "metadata": {},
     "output_type": "execute_result"
    }
   ],
   "source": [
    "amzn.tail()"
   ]
  },
  {
   "cell_type": "code",
   "execution_count": 5,
   "id": "95aa4780",
   "metadata": {},
   "outputs": [
    {
     "data": {
      "text/html": [
       "<div>\n",
       "<style scoped>\n",
       "    .dataframe tbody tr th:only-of-type {\n",
       "        vertical-align: middle;\n",
       "    }\n",
       "\n",
       "    .dataframe tbody tr th {\n",
       "        vertical-align: top;\n",
       "    }\n",
       "\n",
       "    .dataframe thead th {\n",
       "        text-align: right;\n",
       "    }\n",
       "</style>\n",
       "<table border=\"1\" class=\"dataframe\">\n",
       "  <thead>\n",
       "    <tr style=\"text-align: right;\">\n",
       "      <th></th>\n",
       "      <th>Open</th>\n",
       "      <th>High</th>\n",
       "      <th>Low</th>\n",
       "      <th>Close</th>\n",
       "      <th>Adj Close</th>\n",
       "      <th>Volume</th>\n",
       "    </tr>\n",
       "  </thead>\n",
       "  <tbody>\n",
       "    <tr>\n",
       "      <th>count</th>\n",
       "      <td>21.000000</td>\n",
       "      <td>21.000000</td>\n",
       "      <td>21.000000</td>\n",
       "      <td>21.000000</td>\n",
       "      <td>21.000000</td>\n",
       "      <td>2.100000e+01</td>\n",
       "    </tr>\n",
       "    <tr>\n",
       "      <th>mean</th>\n",
       "      <td>3046.427618</td>\n",
       "      <td>3092.261905</td>\n",
       "      <td>2994.672387</td>\n",
       "      <td>3046.841460</td>\n",
       "      <td>3046.841460</td>\n",
       "      <td>3.554223e+06</td>\n",
       "    </tr>\n",
       "    <tr>\n",
       "      <th>std</th>\n",
       "      <td>167.536466</td>\n",
       "      <td>167.381715</td>\n",
       "      <td>184.203670</td>\n",
       "      <td>191.979708</td>\n",
       "      <td>191.979708</td>\n",
       "      <td>1.071691e+06</td>\n",
       "    </tr>\n",
       "    <tr>\n",
       "      <th>min</th>\n",
       "      <td>2733.669922</td>\n",
       "      <td>2805.000000</td>\n",
       "      <td>2671.449951</td>\n",
       "      <td>2720.290039</td>\n",
       "      <td>2720.290039</td>\n",
       "      <td>2.243700e+06</td>\n",
       "    </tr>\n",
       "    <tr>\n",
       "      <th>25%</th>\n",
       "      <td>2919.620117</td>\n",
       "      <td>2959.699951</td>\n",
       "      <td>2876.139893</td>\n",
       "      <td>2912.820068</td>\n",
       "      <td>2912.820068</td>\n",
       "      <td>2.839900e+06</td>\n",
       "    </tr>\n",
       "    <tr>\n",
       "      <th>50%</th>\n",
       "      <td>3048.500000</td>\n",
       "      <td>3078.580078</td>\n",
       "      <td>2975.000000</td>\n",
       "      <td>3041.050049</td>\n",
       "      <td>3041.050049</td>\n",
       "      <td>3.326900e+06</td>\n",
       "    </tr>\n",
       "    <tr>\n",
       "      <th>75%</th>\n",
       "      <td>3222.419922</td>\n",
       "      <td>3261.679932</td>\n",
       "      <td>3191.060059</td>\n",
       "      <td>3229.830078</td>\n",
       "      <td>3229.830078</td>\n",
       "      <td>4.132800e+06</td>\n",
       "    </tr>\n",
       "    <tr>\n",
       "      <th>max</th>\n",
       "      <td>3280.000000</td>\n",
       "      <td>3327.399902</td>\n",
       "      <td>3253.739990</td>\n",
       "      <td>3297.780029</td>\n",
       "      <td>3297.780029</td>\n",
       "      <td>6.753100e+06</td>\n",
       "    </tr>\n",
       "  </tbody>\n",
       "</table>\n",
       "</div>"
      ],
      "text/plain": [
       "              Open         High          Low        Close    Adj Close  \\\n",
       "count    21.000000    21.000000    21.000000    21.000000    21.000000   \n",
       "mean   3046.427618  3092.261905  2994.672387  3046.841460  3046.841460   \n",
       "std     167.536466   167.381715   184.203670   191.979708   191.979708   \n",
       "min    2733.669922  2805.000000  2671.449951  2720.290039  2720.290039   \n",
       "25%    2919.620117  2959.699951  2876.139893  2912.820068  2912.820068   \n",
       "50%    3048.500000  3078.580078  2975.000000  3041.050049  3041.050049   \n",
       "75%    3222.419922  3261.679932  3191.060059  3229.830078  3229.830078   \n",
       "max    3280.000000  3327.399902  3253.739990  3297.780029  3297.780029   \n",
       "\n",
       "             Volume  \n",
       "count  2.100000e+01  \n",
       "mean   3.554223e+06  \n",
       "std    1.071691e+06  \n",
       "min    2.243700e+06  \n",
       "25%    2.839900e+06  \n",
       "50%    3.326900e+06  \n",
       "75%    4.132800e+06  \n",
       "max    6.753100e+06  "
      ]
     },
     "execution_count": 5,
     "metadata": {},
     "output_type": "execute_result"
    }
   ],
   "source": [
    "amzn.describe()"
   ]
  },
  {
   "cell_type": "code",
   "execution_count": 7,
   "id": "9e9f72bb",
   "metadata": {},
   "outputs": [
    {
     "data": {
      "text/plain": [
       "Date          object\n",
       "Open         float64\n",
       "High         float64\n",
       "Low          float64\n",
       "Close        float64\n",
       "Adj Close    float64\n",
       "Volume         int64\n",
       "dtype: object"
      ]
     },
     "execution_count": 7,
     "metadata": {},
     "output_type": "execute_result"
    }
   ],
   "source": [
    "amzn.dtypes"
   ]
  },
  {
   "cell_type": "code",
   "execution_count": 8,
   "id": "8f3fb63a",
   "metadata": {},
   "outputs": [
    {
     "data": {
      "text/html": [
       "<div>\n",
       "<style scoped>\n",
       "    .dataframe tbody tr th:only-of-type {\n",
       "        vertical-align: middle;\n",
       "    }\n",
       "\n",
       "    .dataframe tbody tr th {\n",
       "        vertical-align: top;\n",
       "    }\n",
       "\n",
       "    .dataframe thead th {\n",
       "        text-align: right;\n",
       "    }\n",
       "</style>\n",
       "<table border=\"1\" class=\"dataframe\">\n",
       "  <thead>\n",
       "    <tr style=\"text-align: right;\">\n",
       "      <th></th>\n",
       "      <th>Date</th>\n",
       "      <th>Open</th>\n",
       "      <th>High</th>\n",
       "      <th>Low</th>\n",
       "      <th>Close</th>\n",
       "      <th>Adj Close</th>\n",
       "      <th>Volume</th>\n",
       "    </tr>\n",
       "  </thead>\n",
       "  <tbody>\n",
       "    <tr>\n",
       "      <th>0</th>\n",
       "      <td>2022-02-28</td>\n",
       "      <td>3048.500000</td>\n",
       "      <td>3089.000000</td>\n",
       "      <td>3017.000000</td>\n",
       "      <td>3071.260010</td>\n",
       "      <td>3071.260010</td>\n",
       "      <td>2878500</td>\n",
       "    </tr>\n",
       "    <tr>\n",
       "      <th>1</th>\n",
       "      <td>2022-03-01</td>\n",
       "      <td>3054.649902</td>\n",
       "      <td>3081.979980</td>\n",
       "      <td>2999.540039</td>\n",
       "      <td>3022.840088</td>\n",
       "      <td>3022.840088</td>\n",
       "      <td>2243700</td>\n",
       "    </tr>\n",
       "    <tr>\n",
       "      <th>2</th>\n",
       "      <td>2022-03-02</td>\n",
       "      <td>3016.979980</td>\n",
       "      <td>3059.989990</td>\n",
       "      <td>2975.000000</td>\n",
       "      <td>3041.050049</td>\n",
       "      <td>3041.050049</td>\n",
       "      <td>2366700</td>\n",
       "    </tr>\n",
       "    <tr>\n",
       "      <th>3</th>\n",
       "      <td>2022-03-03</td>\n",
       "      <td>3070.629883</td>\n",
       "      <td>3078.580078</td>\n",
       "      <td>2937.120117</td>\n",
       "      <td>2957.969971</td>\n",
       "      <td>2957.969971</td>\n",
       "      <td>3259900</td>\n",
       "    </tr>\n",
       "    <tr>\n",
       "      <th>4</th>\n",
       "      <td>2022-03-04</td>\n",
       "      <td>2943.179932</td>\n",
       "      <td>2957.000000</td>\n",
       "      <td>2876.139893</td>\n",
       "      <td>2912.820068</td>\n",
       "      <td>2912.820068</td>\n",
       "      <td>3046700</td>\n",
       "    </tr>\n",
       "  </tbody>\n",
       "</table>\n",
       "</div>"
      ],
      "text/plain": [
       "         Date         Open         High          Low        Close  \\\n",
       "0  2022-02-28  3048.500000  3089.000000  3017.000000  3071.260010   \n",
       "1  2022-03-01  3054.649902  3081.979980  2999.540039  3022.840088   \n",
       "2  2022-03-02  3016.979980  3059.989990  2975.000000  3041.050049   \n",
       "3  2022-03-03  3070.629883  3078.580078  2937.120117  2957.969971   \n",
       "4  2022-03-04  2943.179932  2957.000000  2876.139893  2912.820068   \n",
       "\n",
       "     Adj Close   Volume  \n",
       "0  3071.260010  2878500  \n",
       "1  3022.840088  2243700  \n",
       "2  3041.050049  2366700  \n",
       "3  2957.969971  3259900  \n",
       "4  2912.820068  3046700  "
      ]
     },
     "execution_count": 8,
     "metadata": {},
     "output_type": "execute_result"
    }
   ],
   "source": [
    "amzn = amzn.replace({'\\$':''},regex=True)\n",
    "amzn.head()"
   ]
  },
  {
   "cell_type": "code",
   "execution_count": 12,
   "id": "0808524a",
   "metadata": {},
   "outputs": [
    {
     "data": {
      "text/plain": [
       "Date          object\n",
       "Open         float64\n",
       "High         float64\n",
       "Low          float64\n",
       "Close        float64\n",
       "Adj Close    float64\n",
       "Volume         int32\n",
       "dtype: object"
      ]
     },
     "execution_count": 12,
     "metadata": {},
     "output_type": "execute_result"
    }
   ],
   "source": [
    "df=amzn\n",
    "df=df.astype({'Date':object,'Open':float,'High':float,'Low':float,'Close':float,'Adj Close':float,'Volume':int})\n",
    "df.dtypes"
   ]
  },
  {
   "cell_type": "code",
   "execution_count": 15,
   "id": "3eaba3a7",
   "metadata": {},
   "outputs": [
    {
     "data": {
      "text/html": [
       "<div>\n",
       "<style scoped>\n",
       "    .dataframe tbody tr th:only-of-type {\n",
       "        vertical-align: middle;\n",
       "    }\n",
       "\n",
       "    .dataframe tbody tr th {\n",
       "        vertical-align: top;\n",
       "    }\n",
       "\n",
       "    .dataframe thead th {\n",
       "        text-align: right;\n",
       "    }\n",
       "</style>\n",
       "<table border=\"1\" class=\"dataframe\">\n",
       "  <thead>\n",
       "    <tr style=\"text-align: right;\">\n",
       "      <th></th>\n",
       "      <th>Date</th>\n",
       "      <th>Volume</th>\n",
       "    </tr>\n",
       "  </thead>\n",
       "  <tbody>\n",
       "    <tr>\n",
       "      <th>count</th>\n",
       "      <td>21</td>\n",
       "      <td>2.100000e+01</td>\n",
       "    </tr>\n",
       "    <tr>\n",
       "      <th>unique</th>\n",
       "      <td>20</td>\n",
       "      <td>NaN</td>\n",
       "    </tr>\n",
       "    <tr>\n",
       "      <th>top</th>\n",
       "      <td>2022-03-25</td>\n",
       "      <td>NaN</td>\n",
       "    </tr>\n",
       "    <tr>\n",
       "      <th>freq</th>\n",
       "      <td>2</td>\n",
       "      <td>NaN</td>\n",
       "    </tr>\n",
       "    <tr>\n",
       "      <th>mean</th>\n",
       "      <td>NaN</td>\n",
       "      <td>3.554223e+06</td>\n",
       "    </tr>\n",
       "    <tr>\n",
       "      <th>std</th>\n",
       "      <td>NaN</td>\n",
       "      <td>1.071691e+06</td>\n",
       "    </tr>\n",
       "    <tr>\n",
       "      <th>min</th>\n",
       "      <td>NaN</td>\n",
       "      <td>2.243700e+06</td>\n",
       "    </tr>\n",
       "    <tr>\n",
       "      <th>25%</th>\n",
       "      <td>NaN</td>\n",
       "      <td>2.839900e+06</td>\n",
       "    </tr>\n",
       "    <tr>\n",
       "      <th>50%</th>\n",
       "      <td>NaN</td>\n",
       "      <td>3.326900e+06</td>\n",
       "    </tr>\n",
       "    <tr>\n",
       "      <th>75%</th>\n",
       "      <td>NaN</td>\n",
       "      <td>4.132800e+06</td>\n",
       "    </tr>\n",
       "    <tr>\n",
       "      <th>max</th>\n",
       "      <td>NaN</td>\n",
       "      <td>6.753100e+06</td>\n",
       "    </tr>\n",
       "  </tbody>\n",
       "</table>\n",
       "</div>"
      ],
      "text/plain": [
       "              Date        Volume\n",
       "count           21  2.100000e+01\n",
       "unique          20           NaN\n",
       "top     2022-03-25           NaN\n",
       "freq             2           NaN\n",
       "mean           NaN  3.554223e+06\n",
       "std            NaN  1.071691e+06\n",
       "min            NaN  2.243700e+06\n",
       "25%            NaN  2.839900e+06\n",
       "50%            NaN  3.326900e+06\n",
       "75%            NaN  4.132800e+06\n",
       "max            NaN  6.753100e+06"
      ]
     },
     "execution_count": 15,
     "metadata": {},
     "output_type": "execute_result"
    }
   ],
   "source": [
    "df.describe(exclude=float)\n",
    "df.describe(include=float)"
   ]
  },
  {
   "cell_type": "code",
   "execution_count": 17,
   "id": "f2283f5b",
   "metadata": {},
   "outputs": [
    {
     "data": {
      "text/plain": [
       "count    2.100000e+01\n",
       "mean     3.554223e+06\n",
       "std      1.071691e+06\n",
       "min      2.243700e+06\n",
       "10%      2.451600e+06\n",
       "50%      3.326900e+06\n",
       "90%      4.583100e+06\n",
       "max      6.753100e+06\n",
       "Name: Volume, dtype: float64"
      ]
     },
     "execution_count": 17,
     "metadata": {},
     "output_type": "execute_result"
    }
   ],
   "source": [
    "df.describe(percentiles=[0.1,0.5,0.9])['Volume']"
   ]
  },
  {
   "cell_type": "code",
   "execution_count": 20,
   "id": "3f295a7a",
   "metadata": {},
   "outputs": [
    {
     "data": {
      "text/html": [
       "<div>\n",
       "<style scoped>\n",
       "    .dataframe tbody tr th:only-of-type {\n",
       "        vertical-align: middle;\n",
       "    }\n",
       "\n",
       "    .dataframe tbody tr th {\n",
       "        vertical-align: top;\n",
       "    }\n",
       "\n",
       "    .dataframe thead th {\n",
       "        text-align: right;\n",
       "    }\n",
       "</style>\n",
       "<table border=\"1\" class=\"dataframe\">\n",
       "  <thead>\n",
       "    <tr style=\"text-align: right;\">\n",
       "      <th></th>\n",
       "      <th>Date</th>\n",
       "      <th>Open</th>\n",
       "      <th>High</th>\n",
       "      <th>Low</th>\n",
       "      <th>Close</th>\n",
       "      <th>Adj Close</th>\n",
       "      <th>Volume</th>\n",
       "    </tr>\n",
       "  </thead>\n",
       "  <tbody>\n",
       "    <tr>\n",
       "      <th>0</th>\n",
       "      <td>2022-02-28</td>\n",
       "      <td>3048.500000</td>\n",
       "      <td>3089.000000</td>\n",
       "      <td>3017.000000</td>\n",
       "      <td>3071.260010</td>\n",
       "      <td>3071.260010</td>\n",
       "      <td>2878500</td>\n",
       "    </tr>\n",
       "    <tr>\n",
       "      <th>1</th>\n",
       "      <td>2022-03-01</td>\n",
       "      <td>3054.649902</td>\n",
       "      <td>3081.979980</td>\n",
       "      <td>2999.540039</td>\n",
       "      <td>3022.840088</td>\n",
       "      <td>3022.840088</td>\n",
       "      <td>2243700</td>\n",
       "    </tr>\n",
       "    <tr>\n",
       "      <th>2</th>\n",
       "      <td>2022-03-02</td>\n",
       "      <td>3016.979980</td>\n",
       "      <td>3059.989990</td>\n",
       "      <td>2975.000000</td>\n",
       "      <td>3041.050049</td>\n",
       "      <td>3041.050049</td>\n",
       "      <td>2366700</td>\n",
       "    </tr>\n",
       "    <tr>\n",
       "      <th>3</th>\n",
       "      <td>2022-03-03</td>\n",
       "      <td>3070.629883</td>\n",
       "      <td>3078.580078</td>\n",
       "      <td>2937.120117</td>\n",
       "      <td>2957.969971</td>\n",
       "      <td>2957.969971</td>\n",
       "      <td>3259900</td>\n",
       "    </tr>\n",
       "    <tr>\n",
       "      <th>13</th>\n",
       "      <td>2022-03-17</td>\n",
       "      <td>3052.810059</td>\n",
       "      <td>3149.969971</td>\n",
       "      <td>3042.800049</td>\n",
       "      <td>3144.780029</td>\n",
       "      <td>3144.780029</td>\n",
       "      <td>3646700</td>\n",
       "    </tr>\n",
       "  </tbody>\n",
       "</table>\n",
       "</div>"
      ],
      "text/plain": [
       "          Date         Open         High          Low        Close  \\\n",
       "0   2022-02-28  3048.500000  3089.000000  3017.000000  3071.260010   \n",
       "1   2022-03-01  3054.649902  3081.979980  2999.540039  3022.840088   \n",
       "2   2022-03-02  3016.979980  3059.989990  2975.000000  3041.050049   \n",
       "3   2022-03-03  3070.629883  3078.580078  2937.120117  2957.969971   \n",
       "13  2022-03-17  3052.810059  3149.969971  3042.800049  3144.780029   \n",
       "\n",
       "      Adj Close   Volume  \n",
       "0   3071.260010  2878500  \n",
       "1   3022.840088  2243700  \n",
       "2   3041.050049  2366700  \n",
       "3   2957.969971  3259900  \n",
       "13  3144.780029  3646700  "
      ]
     },
     "execution_count": 20,
     "metadata": {},
     "output_type": "execute_result"
    }
   ],
   "source": [
    "tnai1=df['Open']>3000\n",
    "largeOpen = df.loc[tnai1]\n",
    "largeOpen.head()"
   ]
  },
  {
   "cell_type": "code",
   "execution_count": 21,
   "id": "742c62bc",
   "metadata": {},
   "outputs": [
    {
     "data": {
      "text/html": [
       "<div>\n",
       "<style scoped>\n",
       "    .dataframe tbody tr th:only-of-type {\n",
       "        vertical-align: middle;\n",
       "    }\n",
       "\n",
       "    .dataframe tbody tr th {\n",
       "        vertical-align: top;\n",
       "    }\n",
       "\n",
       "    .dataframe thead th {\n",
       "        text-align: right;\n",
       "    }\n",
       "</style>\n",
       "<table border=\"1\" class=\"dataframe\">\n",
       "  <thead>\n",
       "    <tr style=\"text-align: right;\">\n",
       "      <th></th>\n",
       "      <th>Date</th>\n",
       "      <th>Open</th>\n",
       "      <th>High</th>\n",
       "      <th>Low</th>\n",
       "      <th>Close</th>\n",
       "      <th>Adj Close</th>\n",
       "      <th>Volume</th>\n",
       "    </tr>\n",
       "  </thead>\n",
       "  <tbody>\n",
       "    <tr>\n",
       "      <th>3</th>\n",
       "      <td>2022-03-03</td>\n",
       "      <td>3070.629883</td>\n",
       "      <td>3078.580078</td>\n",
       "      <td>2937.120117</td>\n",
       "      <td>2957.969971</td>\n",
       "      <td>2957.969971</td>\n",
       "      <td>3259900</td>\n",
       "    </tr>\n",
       "  </tbody>\n",
       "</table>\n",
       "</div>"
      ],
      "text/plain": [
       "         Date         Open         High          Low        Close  \\\n",
       "3  2022-03-03  3070.629883  3078.580078  2937.120117  2957.969971   \n",
       "\n",
       "     Adj Close   Volume  \n",
       "3  2957.969971  3259900  "
      ]
     },
     "execution_count": 21,
     "metadata": {},
     "output_type": "execute_result"
    }
   ],
   "source": [
    "tnai2=df['Close']<3000\n",
    "largeOpenSmallClose=df.loc[tnai1&tnai2]\n",
    "largeOpenSmallClose.head()"
   ]
  },
  {
   "cell_type": "code",
   "execution_count": 25,
   "id": "fe7e1ade",
   "metadata": {},
   "outputs": [
    {
     "data": {
      "text/plain": [
       "<AxesSubplot:title={'center':'YoMamasAss'}, xlabel='Date'>"
      ]
     },
     "execution_count": 25,
     "metadata": {},
     "output_type": "execute_result"
    },
    {
     "data": {
      "image/png": "[encoded data removed]",
      "text/plain": [
       "<Figure size 432x288 with 1 Axes>"
      ]
     },
     "metadata": {},
     "output_type": "display_data"
    }
   ],
   "source": [
    "df.plot(x='Date',y='Close',rot=90,title = 'YoMamasAss')"
   ]
  },
  {
   "cell_type": "code",
   "execution_count": 26,
   "id": "80468958",
   "metadata": {},
   "outputs": [
    {
     "data": {
      "text/plain": [
       "<AxesSubplot:title={'center':'YoMamasAss'}, xlabel='Date', ylabel='Close'>"
      ]
     },
     "execution_count": 26,
     "metadata": {},
     "output_type": "execute_result"
    },
    {
     "data": {
      "image/png": "[encoded data removed]",
      "text/plain": [
       "<Figure size 432x288 with 1 Axes>"
      ]
     },
     "metadata": {},
     "output_type": "display_data"
    }
   ],
   "source": [
    "df.plot(x='Date',y='Close',rot=90,title = 'YoMamasAss',kind='scatter')"
   ]
  },
  {
   "cell_type": "code",
   "execution_count": 27,
   "id": "d197aab5",
   "metadata": {},
   "outputs": [
    {
     "data": {
      "text/plain": [
       "<AxesSubplot:title={'center':'YoMamasAss'}, ylabel='Frequency'>"
      ]
     },
     "execution_count": 27,
     "metadata": {},
     "output_type": "execute_result"
    },
    {
     "data": {
      "image/png": "[encoded data removed]",
      "text/plain": [
       "<Figure size 432x288 with 1 Axes>"
      ]
     },
     "metadata": {},
     "output_type": "display_data"
    }
   ],
   "source": [
    "df.plot(x='Date',y='Close',rot=90,title = 'YoMamasAss',kind='hist')"
   ]
  },
  {
   "cell_type": "code",
   "execution_count": 28,
   "id": "2f2bec75",
   "metadata": {},
   "outputs": [],
   "source": [
    "largeOpenBiggerThan3000smallCloseSmallerThan3000 = largeOpenSmallClose\n",
    "largeOpenBiggerThan3000smallCloseSmallerThan3000.to_csv('3000PlusOpen3000MinusClose.csv')"
   ]
  },
  {
   "cell_type": "code",
   "execution_count": 30,
   "id": "d19fa528",
   "metadata": {},
   "outputs": [
    {
     "name": "stdout",
     "output_type": "stream",
     "text": [
      "Max=3253.73999,Min=2671.449951,Diff=582.290039\n"
     ]
    }
   ],
   "source": [
    "Max = max(df['Low'])\n",
    "Min = min(df['Low'])\n",
    "print(f'Max={Max},Min={Min},Diff={Max-Min}')"
   ]
  },
  {
   "cell_type": "code",
   "execution_count": null,
   "id": "af06c8d4",
   "metadata": {},
   "outputs": [],
   "source": []
  }
 ],
 "metadata": {
  "kernelspec": {
   "display_name": "Python 3",
   "language": "python",
   "name": "python3"
  },
  "language_info": {
   "codemirror_mode": {
    "name": "ipython",
    "version": 3
   },
   "file_extension": ".py",
   "mimetype": "text/x-python",
   "name": "python",
   "nbconvert_exporter": "python",
   "pygments_lexer": "ipython3",
   "version": "3.8.8"
  }
 },
 "nbformat": 4,
 "nbformat_minor": 5
}
