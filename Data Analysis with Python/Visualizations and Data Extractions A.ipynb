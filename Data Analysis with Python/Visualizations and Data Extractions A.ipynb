{
 "cells": [
  {
   "cell_type": "code",
   "execution_count": 2,
   "id": "positive-savannah",
   "metadata": {},
   "outputs": [],
   "source": [
    "# בלוק מספר 1\n",
    "#Useful imports\n",
    "import numpy as np\n",
    "import pandas as pd\n",
    "import matplotlib.pyplot as plt\n",
    "import seaborn as sns\n",
    "# הצגת כל המידע הגרפי בתוך חוברת העבודה בה אנחנו עובדים\n",
    "%matplotlib inline\n",
    "#seaborn - טעינת מאגר מידע לבדיקות מתוך עולם ה"
   ]
  },
  {
   "cell_type": "markdown",
   "id": "c05f6c1e",
   "metadata": {
    "direction": "rtl"
   },
   "source": [
    "#### question number 1)\n",
    "* Block 1A shows the link to Wikipedia to show the biggest margins in the world of sports\n",
    "* Block 1B: From table number zero, show only the following columns:\n",
    "* 'Name','Country','Sport','Total'\n",
    "* Show in block 1C passing basketball profession: Basketball all the players in it\n",
    "* Show in block 1D what is the amount of their income (please note that irrelevant data must be cleared from each number)"
   ]
  },
  {
   "cell_type": "code",
   "execution_count": 6,
   "id": "04203730",
   "metadata": {},
   "outputs": [
    {
     "data": {
      "text/html": [
       "<div>\n",
       "<style scoped>\n",
       "    .dataframe tbody tr th:only-of-type {\n",
       "        vertical-align: middle;\n",
       "    }\n",
       "\n",
       "    .dataframe tbody tr th {\n",
       "        vertical-align: top;\n",
       "    }\n",
       "\n",
       "    .dataframe thead th {\n",
       "        text-align: right;\n",
       "    }\n",
       "</style>\n",
       "<table border=\"1\" class=\"dataframe\">\n",
       "  <thead>\n",
       "    <tr style=\"text-align: right;\">\n",
       "      <th></th>\n",
       "      <th>Rank</th>\n",
       "      <th>Name</th>\n",
       "      <th>Sport</th>\n",
       "      <th>Country</th>\n",
       "      <th>Total</th>\n",
       "      <th>Salary/winnings</th>\n",
       "      <th>Endorsements</th>\n",
       "    </tr>\n",
       "  </thead>\n",
       "  <tbody>\n",
       "    <tr>\n",
       "      <th>0</th>\n",
       "      <td>1</td>\n",
       "      <td>Lionel Messi</td>\n",
       "      <td>Association football</td>\n",
       "      <td>Argentina</td>\n",
       "      <td>$130 million</td>\n",
       "      <td>$75 million</td>\n",
       "      <td>$55 million</td>\n",
       "    </tr>\n",
       "    <tr>\n",
       "      <th>1</th>\n",
       "      <td>2</td>\n",
       "      <td>LeBron James</td>\n",
       "      <td>Basketball</td>\n",
       "      <td>United States</td>\n",
       "      <td>$121.2 million</td>\n",
       "      <td>$41.2 million</td>\n",
       "      <td>$80 million</td>\n",
       "    </tr>\n",
       "    <tr>\n",
       "      <th>2</th>\n",
       "      <td>3</td>\n",
       "      <td>Cristiano Ronaldo</td>\n",
       "      <td>Association football</td>\n",
       "      <td>Portugal</td>\n",
       "      <td>$115 million</td>\n",
       "      <td>$60 million</td>\n",
       "      <td>$55 million</td>\n",
       "    </tr>\n",
       "    <tr>\n",
       "      <th>3</th>\n",
       "      <td>4</td>\n",
       "      <td>Neymar</td>\n",
       "      <td>Association football</td>\n",
       "      <td>Brazil</td>\n",
       "      <td>$95 million</td>\n",
       "      <td>$70 million</td>\n",
       "      <td>$25 million</td>\n",
       "    </tr>\n",
       "    <tr>\n",
       "      <th>4</th>\n",
       "      <td>5</td>\n",
       "      <td>Stephen Curry</td>\n",
       "      <td>Basketball</td>\n",
       "      <td>United States</td>\n",
       "      <td>$92.8 million</td>\n",
       "      <td>$45.8 million</td>\n",
       "      <td>$47 million</td>\n",
       "    </tr>\n",
       "  </tbody>\n",
       "</table>\n",
       "</div>"
      ],
      "text/plain": [
       "   Rank               Name                 Sport        Country  \\\n",
       "0     1       Lionel Messi  Association football      Argentina   \n",
       "1     2       LeBron James            Basketball  United States   \n",
       "2     3  Cristiano Ronaldo  Association football       Portugal   \n",
       "3     4             Neymar  Association football         Brazil   \n",
       "4     5      Stephen Curry            Basketball  United States   \n",
       "\n",
       "            Total Salary/winnings Endorsements  \n",
       "0    $130 million     $75 million  $55 million  \n",
       "1  $121.2 million   $41.2 million  $80 million  \n",
       "2    $115 million     $60 million  $55 million  \n",
       "3     $95 million     $70 million  $25 million  \n",
       "4   $92.8 million   $45.8 million  $47 million  "
      ]
     },
     "execution_count": 6,
     "metadata": {},
     "output_type": "execute_result"
    }
   ],
   "source": [
    "# 1A:\n",
    "url='https://en.wikipedia.org/wiki/Forbes%27_list_of_the_world%27s_highest-paid_athletes'\n",
    "Athletes = pd.read_html(url)[0]\n",
    "Athletes.head()"
   ]
  },
  {
   "cell_type": "code",
   "execution_count": 7,
   "id": "2ecf911e",
   "metadata": {},
   "outputs": [
    {
     "data": {
      "text/html": [
       "<div>\n",
       "<style scoped>\n",
       "    .dataframe tbody tr th:only-of-type {\n",
       "        vertical-align: middle;\n",
       "    }\n",
       "\n",
       "    .dataframe tbody tr th {\n",
       "        vertical-align: top;\n",
       "    }\n",
       "\n",
       "    .dataframe thead th {\n",
       "        text-align: right;\n",
       "    }\n",
       "</style>\n",
       "<table border=\"1\" class=\"dataframe\">\n",
       "  <thead>\n",
       "    <tr style=\"text-align: right;\">\n",
       "      <th></th>\n",
       "      <th>Name</th>\n",
       "      <th>Country</th>\n",
       "      <th>Sport</th>\n",
       "      <th>Total</th>\n",
       "    </tr>\n",
       "  </thead>\n",
       "  <tbody>\n",
       "    <tr>\n",
       "      <th>0</th>\n",
       "      <td>Lionel Messi</td>\n",
       "      <td>Argentina</td>\n",
       "      <td>Association football</td>\n",
       "      <td>$130 million</td>\n",
       "    </tr>\n",
       "    <tr>\n",
       "      <th>1</th>\n",
       "      <td>LeBron James</td>\n",
       "      <td>United States</td>\n",
       "      <td>Basketball</td>\n",
       "      <td>$121.2 million</td>\n",
       "    </tr>\n",
       "    <tr>\n",
       "      <th>2</th>\n",
       "      <td>Cristiano Ronaldo</td>\n",
       "      <td>Portugal</td>\n",
       "      <td>Association football</td>\n",
       "      <td>$115 million</td>\n",
       "    </tr>\n",
       "    <tr>\n",
       "      <th>3</th>\n",
       "      <td>Neymar</td>\n",
       "      <td>Brazil</td>\n",
       "      <td>Association football</td>\n",
       "      <td>$95 million</td>\n",
       "    </tr>\n",
       "    <tr>\n",
       "      <th>4</th>\n",
       "      <td>Stephen Curry</td>\n",
       "      <td>United States</td>\n",
       "      <td>Basketball</td>\n",
       "      <td>$92.8 million</td>\n",
       "    </tr>\n",
       "    <tr>\n",
       "      <th>5</th>\n",
       "      <td>Kevin Durant</td>\n",
       "      <td>United States</td>\n",
       "      <td>Basketball</td>\n",
       "      <td>$92.1 million</td>\n",
       "    </tr>\n",
       "    <tr>\n",
       "      <th>6</th>\n",
       "      <td>Roger Federer</td>\n",
       "      <td>Switzerland</td>\n",
       "      <td>Tennis</td>\n",
       "      <td>$90.7 million</td>\n",
       "    </tr>\n",
       "    <tr>\n",
       "      <th>7</th>\n",
       "      <td>Canelo Álvarez</td>\n",
       "      <td>Mexico</td>\n",
       "      <td>Boxing</td>\n",
       "      <td>$90 million</td>\n",
       "    </tr>\n",
       "    <tr>\n",
       "      <th>8</th>\n",
       "      <td>Tom Brady</td>\n",
       "      <td>United States</td>\n",
       "      <td>American football</td>\n",
       "      <td>$83.9 million</td>\n",
       "    </tr>\n",
       "    <tr>\n",
       "      <th>9</th>\n",
       "      <td>Giannis Antetokounmpo</td>\n",
       "      <td>Greece</td>\n",
       "      <td>Basketball</td>\n",
       "      <td>$80.9 million</td>\n",
       "    </tr>\n",
       "  </tbody>\n",
       "</table>\n",
       "</div>"
      ],
      "text/plain": [
       "                    Name        Country                 Sport           Total\n",
       "0           Lionel Messi      Argentina  Association football    $130 million\n",
       "1           LeBron James  United States            Basketball  $121.2 million\n",
       "2      Cristiano Ronaldo       Portugal  Association football    $115 million\n",
       "3                 Neymar         Brazil  Association football     $95 million\n",
       "4          Stephen Curry  United States            Basketball   $92.8 million\n",
       "5           Kevin Durant  United States            Basketball   $92.1 million\n",
       "6          Roger Federer    Switzerland                Tennis   $90.7 million\n",
       "7         Canelo Álvarez         Mexico                Boxing     $90 million\n",
       "8              Tom Brady  United States     American football   $83.9 million\n",
       "9  Giannis Antetokounmpo         Greece            Basketball   $80.9 million"
      ]
     },
     "execution_count": 7,
     "metadata": {},
     "output_type": "execute_result"
    }
   ],
   "source": [
    "# 1B:\n",
    "Athletes[['Name','Country','Sport','Total']]"
   ]
  },
  {
   "cell_type": "code",
   "execution_count": 12,
   "id": "d018b504",
   "metadata": {},
   "outputs": [
    {
     "data": {
      "text/html": [
       "<div>\n",
       "<style scoped>\n",
       "    .dataframe tbody tr th:only-of-type {\n",
       "        vertical-align: middle;\n",
       "    }\n",
       "\n",
       "    .dataframe tbody tr th {\n",
       "        vertical-align: top;\n",
       "    }\n",
       "\n",
       "    .dataframe thead th {\n",
       "        text-align: right;\n",
       "    }\n",
       "</style>\n",
       "<table border=\"1\" class=\"dataframe\">\n",
       "  <thead>\n",
       "    <tr style=\"text-align: right;\">\n",
       "      <th></th>\n",
       "      <th>Name</th>\n",
       "      <th>Sport</th>\n",
       "    </tr>\n",
       "  </thead>\n",
       "  <tbody>\n",
       "    <tr>\n",
       "      <th>1</th>\n",
       "      <td>LeBron James</td>\n",
       "      <td>Basketball</td>\n",
       "    </tr>\n",
       "    <tr>\n",
       "      <th>4</th>\n",
       "      <td>Stephen Curry</td>\n",
       "      <td>Basketball</td>\n",
       "    </tr>\n",
       "    <tr>\n",
       "      <th>5</th>\n",
       "      <td>Kevin Durant</td>\n",
       "      <td>Basketball</td>\n",
       "    </tr>\n",
       "    <tr>\n",
       "      <th>9</th>\n",
       "      <td>Giannis Antetokounmpo</td>\n",
       "      <td>Basketball</td>\n",
       "    </tr>\n",
       "  </tbody>\n",
       "</table>\n",
       "</div>"
      ],
      "text/plain": [
       "                    Name       Sport\n",
       "1           LeBron James  Basketball\n",
       "4          Stephen Curry  Basketball\n",
       "5           Kevin Durant  Basketball\n",
       "9  Giannis Antetokounmpo  Basketball"
      ]
     },
     "execution_count": 12,
     "metadata": {},
     "output_type": "execute_result"
    }
   ],
   "source": [
    "# 1C:\n",
    "Sor = Athletes.loc[Atheletes['Sport']=='Basketball']\n",
    "Sor = Sor[['Name','Sport']]\n",
    "Sor"
   ]
  },
  {
   "cell_type": "code",
   "execution_count": 33,
   "id": "5f4fa246",
   "metadata": {
    "scrolled": true
   },
   "outputs": [
    {
     "name": "stdout",
     "output_type": "stream",
     "text": [
      "387.0 Million\n"
     ]
    },
    {
     "name": "stderr",
     "output_type": "stream",
     "text": [
      "<ipython-input-33-774d76d61321>:3: FutureWarning: The default value of regex will change from True to False in a future version. In addition, single character regular expressions will*not* be treated as literal strings when regex=True.\n",
      "  Basketballers['Total'] = Basketballers['Total'].str.replace('$','')\n",
      "<ipython-input-33-774d76d61321>:3: SettingWithCopyWarning: \n",
      "A value is trying to be set on a copy of a slice from a DataFrame.\n",
      "Try using .loc[row_indexer,col_indexer] = value instead\n",
      "\n",
      "See the caveats in the documentation: https://pandas.pydata.org/pandas-docs/stable/user_guide/indexing.html#returning-a-view-versus-a-copy\n",
      "  Basketballers['Total'] = Basketballers['Total'].str.replace('$','')\n",
      "<ipython-input-33-774d76d61321>:4: SettingWithCopyWarning: \n",
      "A value is trying to be set on a copy of a slice from a DataFrame.\n",
      "Try using .loc[row_indexer,col_indexer] = value instead\n",
      "\n",
      "See the caveats in the documentation: https://pandas.pydata.org/pandas-docs/stable/user_guide/indexing.html#returning-a-view-versus-a-copy\n",
      "  Basketballers['Total'] = Basketballers['Total'].str.replace('million','')\n"
     ]
    }
   ],
   "source": [
    "# 1D:\n",
    "Basketballers = Athletes.loc[Atheletes['Sport']=='Basketball']\n",
    "Basketballers['Total'] = Basketballers['Total'].str.replace('$','')\n",
    "Basketballers['Total'] = Basketballers['Total'].str.replace('million','')\n",
    "MillionsArray = []\n",
    "for i in Basketballers['Total']:\n",
    "    MillionsArray.append(float(i))\n",
    "Sum = sum(MillionsArray)\n",
    "print(f\"{Sum} Million\")"
   ]
  },
  {
   "cell_type": "markdown",
   "id": "above-england",
   "metadata": {
    "direction": "rtl"
   },
   "source": [
    "#### question number 2)\n",
    "* You must use the database belonging to the seaborn library called tips\n",
    "* Display for each day of the week the average bill amount\n",
    "* The amount of the bill is a field named: total_bill "
   ]
  },
  {
   "cell_type": "code",
   "execution_count": 36,
   "id": "3cbbb29f",
   "metadata": {},
   "outputs": [
    {
     "data": {
      "text/plain": [
       "day\n",
       "Thur    17.682742\n",
       "Fri     17.151579\n",
       "Sat     20.441379\n",
       "Sun     21.410000\n",
       "Name: total_bill, dtype: float64"
      ]
     },
     "execution_count": 36,
     "metadata": {},
     "output_type": "execute_result"
    }
   ],
   "source": [
    "tips = sns.load_dataset('tips')\n",
    "tips = tips.groupby('day').mean()['total_bill']\n",
    "tips"
   ]
  },
  {
   "attachments": {
    "image-2.png": {
     "image/png": "[encoded data removed]"
    },
    "image.png": {
     "image/png": "[encoded data removed]"
    }
   },
   "cell_type": "markdown",
   "id": "removable-intervention",
   "metadata": {
    "direction": "rtl"
   },
   "source": [
    "#### Question number 3)\n",
    "* Run this code and write down the meaning of the value 372 \n",
    "![image.png](attachment:image.png)\n",
    "![image-2.png](attachment:image-2.png)"
   ]
  },
  {
   "cell_type": "code",
   "execution_count": 53,
   "id": "honest-installation",
   "metadata": {
    "scrolled": true
   },
   "outputs": [
    {
     "data": {
      "text/html": [
       "<div>\n",
       "<style scoped>\n",
       "    .dataframe tbody tr th:only-of-type {\n",
       "        vertical-align: middle;\n",
       "    }\n",
       "\n",
       "    .dataframe tbody tr th {\n",
       "        vertical-align: top;\n",
       "    }\n",
       "\n",
       "    .dataframe thead th {\n",
       "        text-align: right;\n",
       "    }\n",
       "</style>\n",
       "<table border=\"1\" class=\"dataframe\">\n",
       "  <thead>\n",
       "    <tr style=\"text-align: right;\">\n",
       "      <th></th>\n",
       "      <th>survived</th>\n",
       "      <th>pclass</th>\n",
       "      <th>sex</th>\n",
       "      <th>age</th>\n",
       "      <th>sibsp</th>\n",
       "      <th>parch</th>\n",
       "      <th>fare</th>\n",
       "      <th>embarked</th>\n",
       "      <th>class</th>\n",
       "      <th>who</th>\n",
       "      <th>adult_male</th>\n",
       "      <th>deck</th>\n",
       "      <th>embark_town</th>\n",
       "      <th>alive</th>\n",
       "      <th>alone</th>\n",
       "    </tr>\n",
       "  </thead>\n",
       "  <tbody>\n",
       "    <tr>\n",
       "      <th>0</th>\n",
       "      <td>0</td>\n",
       "      <td>3</td>\n",
       "      <td>male</td>\n",
       "      <td>22.0</td>\n",
       "      <td>1</td>\n",
       "      <td>0</td>\n",
       "      <td>7.2500</td>\n",
       "      <td>S</td>\n",
       "      <td>Third</td>\n",
       "      <td>man</td>\n",
       "      <td>True</td>\n",
       "      <td>NaN</td>\n",
       "      <td>Southampton</td>\n",
       "      <td>no</td>\n",
       "      <td>False</td>\n",
       "    </tr>\n",
       "    <tr>\n",
       "      <th>1</th>\n",
       "      <td>1</td>\n",
       "      <td>1</td>\n",
       "      <td>female</td>\n",
       "      <td>38.0</td>\n",
       "      <td>1</td>\n",
       "      <td>0</td>\n",
       "      <td>71.2833</td>\n",
       "      <td>C</td>\n",
       "      <td>First</td>\n",
       "      <td>woman</td>\n",
       "      <td>False</td>\n",
       "      <td>C</td>\n",
       "      <td>Cherbourg</td>\n",
       "      <td>yes</td>\n",
       "      <td>False</td>\n",
       "    </tr>\n",
       "    <tr>\n",
       "      <th>2</th>\n",
       "      <td>1</td>\n",
       "      <td>3</td>\n",
       "      <td>female</td>\n",
       "      <td>26.0</td>\n",
       "      <td>0</td>\n",
       "      <td>0</td>\n",
       "      <td>7.9250</td>\n",
       "      <td>S</td>\n",
       "      <td>Third</td>\n",
       "      <td>woman</td>\n",
       "      <td>False</td>\n",
       "      <td>NaN</td>\n",
       "      <td>Southampton</td>\n",
       "      <td>yes</td>\n",
       "      <td>True</td>\n",
       "    </tr>\n",
       "    <tr>\n",
       "      <th>3</th>\n",
       "      <td>1</td>\n",
       "      <td>1</td>\n",
       "      <td>female</td>\n",
       "      <td>35.0</td>\n",
       "      <td>1</td>\n",
       "      <td>0</td>\n",
       "      <td>53.1000</td>\n",
       "      <td>S</td>\n",
       "      <td>First</td>\n",
       "      <td>woman</td>\n",
       "      <td>False</td>\n",
       "      <td>C</td>\n",
       "      <td>Southampton</td>\n",
       "      <td>yes</td>\n",
       "      <td>False</td>\n",
       "    </tr>\n",
       "    <tr>\n",
       "      <th>4</th>\n",
       "      <td>0</td>\n",
       "      <td>3</td>\n",
       "      <td>male</td>\n",
       "      <td>35.0</td>\n",
       "      <td>0</td>\n",
       "      <td>0</td>\n",
       "      <td>8.0500</td>\n",
       "      <td>S</td>\n",
       "      <td>Third</td>\n",
       "      <td>man</td>\n",
       "      <td>True</td>\n",
       "      <td>NaN</td>\n",
       "      <td>Southampton</td>\n",
       "      <td>no</td>\n",
       "      <td>True</td>\n",
       "    </tr>\n",
       "  </tbody>\n",
       "</table>\n",
       "</div>"
      ],
      "text/plain": [
       "   survived  pclass     sex   age  sibsp  parch     fare embarked  class  \\\n",
       "0         0       3    male  22.0      1      0   7.2500        S  Third   \n",
       "1         1       1  female  38.0      1      0  71.2833        C  First   \n",
       "2         1       3  female  26.0      0      0   7.9250        S  Third   \n",
       "3         1       1  female  35.0      1      0  53.1000        S  First   \n",
       "4         0       3    male  35.0      0      0   8.0500        S  Third   \n",
       "\n",
       "     who  adult_male deck  embark_town alive  alone  \n",
       "0    man        True  NaN  Southampton    no  False  \n",
       "1  woman       False    C    Cherbourg   yes  False  \n",
       "2  woman       False  NaN  Southampton   yes   True  \n",
       "3  woman       False    C  Southampton   yes  False  \n",
       "4    man        True  NaN  Southampton    no   True  "
      ]
     },
     "execution_count": 53,
     "metadata": {},
     "output_type": "execute_result"
    }
   ],
   "source": [
    "titanicData = sns.load_dataset('titanic')\n",
    "titanicData.head()\n"
   ]
  },
  {
   "cell_type": "code",
   "execution_count": 56,
   "id": "6bdd5d57",
   "metadata": {},
   "outputs": [
    {
     "data": {
      "text/plain": [
       "<AxesSubplot:xlabel='survived', ylabel='pclass'>"
      ]
     },
     "execution_count": 56,
     "metadata": {},
     "output_type": "execute_result"
    },
    {
     "data": {
      "image/png": "[encoded data removed]",
      "text/plain": [
       "<Figure size 432x288 with 2 Axes>"
      ]
     },
     "metadata": {
      "needs_background": "light"
     },
     "output_type": "display_data"
    }
   ],
   "source": [
    "group = titanicData.groupby(['pclass', 'survived'])\n",
    "song = group.size().unstack()\n",
    "sns.heatmap(song, annot=True, fmt = \"d\")"
   ]
  },
  {
   "cell_type": "markdown",
   "id": "voluntary-congress",
   "metadata": {
    "direction": "rtl"
   },
   "source": [
    "#### Question number 4) Titanic database\n",
    "* The catplot function must be used to create the following graph according to the following rules:\n",
    "* The X-axis is the gender of the survivors.\n",
    "* Expanding the X-axis with the help of the hue parameter, whether utilization is yes or not\n",
    "* The graph type will be count"
   ]
  },
  {
   "cell_type": "code",
   "execution_count": 58,
   "id": "92d614d7",
   "metadata": {},
   "outputs": [
    {
     "data": {
      "text/plain": [
       "<seaborn.axisgrid.FacetGrid at 0x28fb208c310>"
      ]
     },
     "execution_count": 58,
     "metadata": {},
     "output_type": "execute_result"
    },
    {
     "data": {
      "image/png": "[encoded data removed]",
      "text/plain": [
       "<Figure size 410.875x360 with 1 Axes>"
      ]
     },
     "metadata": {
      "needs_background": "light"
     },
     "output_type": "display_data"
    }
   ],
   "source": [
    "sns.catplot(x='sex',hue='survived',kind=\"count\",data=titanicData)"
   ]
  },
  {
   "cell_type": "markdown",
   "id": "becoming-advance",
   "metadata": {
    "direction": "rtl"
   },
   "source": [
    "#### Question number 5) Tips database\n",
    "* Complete the blanks (replace each XXXX mark with an appropriate amount)\n",
    "* Please note that XXXX is missing information and does not indicate how much information is missing.\n",
    "* Show for day of the week and smoke the tip average."
   ]
  },
  {
   "cell_type": "code",
   "execution_count": 65,
   "id": "answering-candy",
   "metadata": {},
   "outputs": [
    {
     "data": {
      "text/plain": [
       "day   smoker\n",
       "Thur  Yes       3.030000\n",
       "      No        2.673778\n",
       "Fri   Yes       2.714000\n",
       "      No        2.812500\n",
       "Sat   Yes       2.875476\n",
       "      No        3.102889\n",
       "Sun   Yes       3.516842\n",
       "      No        3.167895\n",
       "Name: tip, dtype: float64"
      ]
     },
     "execution_count": 65,
     "metadata": {},
     "output_type": "execute_result"
    }
   ],
   "source": [
    "tipsData = sns.load_dataset('tips')\n",
    "# tipsData.head()\n",
    "tipsData.groupby(['day','smoker']).mean()['tip']"
   ]
  },
  {
   "cell_type": "markdown",
   "id": "vocal-honolulu",
   "metadata": {
    "direction": "rtl"
   },
   "source": [
    "#### Question number 6) Work with a graph\n",
    "* Run code appearing in block number 6A\n",
    "* Apply this graph to the next buffer shown in block 6B\n",
    "* Only the columns should be taken from table number 2:\n",
    "* A. Region (2021)\n",
    "* B. Number\n",
    "* and take only the lines zero to 6 inclusive "
   ]
  },
  {
   "cell_type": "code",
   "execution_count": 67,
   "id": "affected-theorem",
   "metadata": {},
   "outputs": [
    {
     "data": {
      "image/png": "[encoded data removed]",
      "text/plain": [
       "<Figure size 432x288 with 1 Axes>"
      ]
     },
     "metadata": {},
     "output_type": "display_data"
    }
   ],
   "source": [
    "# 6A:\n",
    "# library\n",
    "import matplotlib.pyplot as plt\n",
    "# create data: an array of values\n",
    "names='groupA', 'groupB', 'groupC', 'groupD'\n",
    "values=[12,11,3,30]\n",
    "# Create a pieplot\n",
    "plt.pie(values, labels=names, labeldistance=1.15);\n",
    "plt.show()"
   ]
  },
  {
   "cell_type": "code",
   "execution_count": 79,
   "id": "stuck-paper",
   "metadata": {},
   "outputs": [
    {
     "data": {
      "image/png": "[encoded data removed]",
      "text/plain": [
       "<Figure size 432x288 with 1 Axes>"
      ]
     },
     "metadata": {},
     "output_type": "display_data"
    }
   ],
   "source": [
    "# 6B:\n",
    "dow_url ='https://en.wikipedia.org/wiki/Demographics_of_the_world'\n",
    "dow=pd.read_html(dow_url)[2]\n",
    "dow_new = dow[['Region (2021)','Number']][:6]\n",
    "\n",
    "\n",
    "names=dow_new['Region (2021)']\n",
    "values=dow_new['Number']\n",
    "# Create a pieplot\n",
    "plt.pie(values,labels=names,labeldistance=1.15);\n"
   ]
  },
  {
   "cell_type": "markdown",
   "id": "fabulous-representative",
   "metadata": {
    "direction": "rtl"
   },
   "source": [
    "#### Question number 7) Working with a map\n",
    "* Install this directory listed in block 7A:\n",
    "* Demonstration for finding the Rishon Lezion College of Administration campus is in Block 7B\n",
    "* Change the waypoints to the following waypoints and find where in the world you have arrived, save the map file in the file corresponding to the location you found, found in block 7C:\n"
   ]
  },
  {
   "cell_type": "code",
   "execution_count": 80,
   "id": "subtle-passage",
   "metadata": {},
   "outputs": [
    {
     "name": "stdout",
     "output_type": "stream",
     "text": [
      "Collecting folium\n",
      "  Downloading folium-0.12.1.post1-py2.py3-none-any.whl (95 kB)\n",
      "Requirement already satisfied: numpy in c:\\users\\perash\\anaconda3\\lib\\site-packages (from folium) (1.20.1)\n",
      "Collecting branca>=0.3.0\n",
      "  Downloading branca-0.5.0-py3-none-any.whl (24 kB)\n",
      "Requirement already satisfied: jinja2>=2.9 in c:\\users\\perash\\anaconda3\\lib\\site-packages (from folium) (2.11.3)\n",
      "Requirement already satisfied: requests in c:\\users\\perash\\anaconda3\\lib\\site-packages (from folium) (2.25.1)\n",
      "Requirement already satisfied: MarkupSafe>=0.23 in c:\\users\\perash\\anaconda3\\lib\\site-packages (from jinja2>=2.9->folium) (1.1.1)\n",
      "Requirement already satisfied: idna<3,>=2.5 in c:\\users\\perash\\anaconda3\\lib\\site-packages (from requests->folium) (2.10)\n",
      "Requirement already satisfied: chardet<5,>=3.0.2 in c:\\users\\perash\\anaconda3\\lib\\site-packages (from requests->folium) (4.0.0)\n",
      "Requirement already satisfied: urllib3<1.27,>=1.21.1 in c:\\users\\perash\\anaconda3\\lib\\site-packages (from requests->folium) (1.26.4)\n",
      "Requirement already satisfied: certifi>=2017.4.17 in c:\\users\\perash\\anaconda3\\lib\\site-packages (from requests->folium) (2020.12.5)\n",
      "Installing collected packages: branca, folium\n",
      "Successfully installed branca-0.5.0 folium-0.12.1.post1\n"
     ]
    }
   ],
   "source": [
    "# 7A:\n",
    "! pip install folium"
   ]
  },
  {
   "cell_type": "code",
   "execution_count": 81,
   "id": "graphic-impression",
   "metadata": {},
   "outputs": [
    {
     "data": {
      "text/html": [
       "<div style=\"width:100%;\"><div style=\"position:relative;width:100%;height:0;padding-bottom:60%;\"><span style=\"color:#565656\">Make this Notebook Trusted to load map: File -> Trust Notebook</span><iframe srcdoc=\"&lt;!DOCTYPE html&gt;\n",
       "&lt;head&gt;    \n",
       "    &lt;meta http-equiv=&quot;content-type&quot; content=&quot;text/html; charset=UTF-8&quot; /&gt;\n",
       "    \n",
       "        &lt;script&gt;\n",
       "            L_NO_TOUCH = false;\n",
       "            L_DISABLE_3D = false;\n",
       "        &lt;/script&gt;\n",
       "    \n",
       "    &lt;style&gt;html, body {width: 100%;height: 100%;margin: 0;padding: 0;}&lt;/style&gt;\n",
       "    &lt;style&gt;#map {position:absolute;top:0;bottom:0;right:0;left:0;}&lt;/style&gt;\n",
       "    &lt;script src=&quot;https://cdn.jsdelivr.net/npm/leaflet@1.6.0/dist/leaflet.js&quot;&gt;&lt;/script&gt;\n",
       "    &lt;script src=&quot;https://code.jquery.com/jquery-1.12.4.min.js&quot;&gt;&lt;/script&gt;\n",
       "    &lt;script src=&quot;https://maxcdn.bootstrapcdn.com/bootstrap/3.2.0/js/bootstrap.min.js&quot;&gt;&lt;/script&gt;\n",
       "    &lt;script src=&quot;https://cdnjs.cloudflare.com/ajax/libs/Leaflet.awesome-markers/2.0.2/leaflet.awesome-markers.js&quot;&gt;&lt;/script&gt;\n",
       "    &lt;link rel=&quot;stylesheet&quot; href=&quot;https://cdn.jsdelivr.net/npm/leaflet@1.6.0/dist/leaflet.css&quot;/&gt;\n",
       "    &lt;link rel=&quot;stylesheet&quot; href=&quot;https://maxcdn.bootstrapcdn.com/bootstrap/3.2.0/css/bootstrap.min.css&quot;/&gt;\n",
       "    &lt;link rel=&quot;stylesheet&quot; href=&quot;https://maxcdn.bootstrapcdn.com/bootstrap/3.2.0/css/bootstrap-theme.min.css&quot;/&gt;\n",
       "    &lt;link rel=&quot;stylesheet&quot; href=&quot;https://maxcdn.bootstrapcdn.com/font-awesome/4.6.3/css/font-awesome.min.css&quot;/&gt;\n",
       "    &lt;link rel=&quot;stylesheet&quot; href=&quot;https://cdnjs.cloudflare.com/ajax/libs/Leaflet.awesome-markers/2.0.2/leaflet.awesome-markers.css&quot;/&gt;\n",
       "    &lt;link rel=&quot;stylesheet&quot; href=&quot;https://cdn.jsdelivr.net/gh/python-visualization/folium/folium/templates/leaflet.awesome.rotate.min.css&quot;/&gt;\n",
       "    \n",
       "            &lt;meta name=&quot;viewport&quot; content=&quot;width=device-width,\n",
       "                initial-scale=1.0, maximum-scale=1.0, user-scalable=no&quot; /&gt;\n",
       "            &lt;style&gt;\n",
       "                #map_7ce37364efcd9cb56f169de86cde9d8d {\n",
       "                    position: relative;\n",
       "                    width: 100.0%;\n",
       "                    height: 100.0%;\n",
       "                    left: 0.0%;\n",
       "                    top: 0.0%;\n",
       "                }\n",
       "            &lt;/style&gt;\n",
       "        \n",
       "&lt;/head&gt;\n",
       "&lt;body&gt;    \n",
       "    \n",
       "            &lt;div class=&quot;folium-map&quot; id=&quot;map_7ce37364efcd9cb56f169de86cde9d8d&quot; &gt;&lt;/div&gt;\n",
       "        \n",
       "&lt;/body&gt;\n",
       "&lt;script&gt;    \n",
       "    \n",
       "            var map_7ce37364efcd9cb56f169de86cde9d8d = L.map(\n",
       "                &quot;map_7ce37364efcd9cb56f169de86cde9d8d&quot;,\n",
       "                {\n",
       "                    center: [31.969938215554237, 34.77330218201489],\n",
       "                    crs: L.CRS.EPSG3857,\n",
       "                    zoom: 20,\n",
       "                    zoomControl: true,\n",
       "                    preferCanvas: false,\n",
       "                }\n",
       "            );\n",
       "\n",
       "            \n",
       "\n",
       "        \n",
       "    \n",
       "            var tile_layer_a80e31a580c3787bea30d109e28e824c = L.tileLayer(\n",
       "                &quot;https://{s}.tile.openstreetmap.org/{z}/{x}/{y}.png&quot;,\n",
       "                {&quot;attribution&quot;: &quot;Data by \\u0026copy; \\u003ca href=\\&quot;http://openstreetmap.org\\&quot;\\u003eOpenStreetMap\\u003c/a\\u003e, under \\u003ca href=\\&quot;http://www.openstreetmap.org/copyright\\&quot;\\u003eODbL\\u003c/a\\u003e.&quot;, &quot;detectRetina&quot;: false, &quot;maxNativeZoom&quot;: 18, &quot;maxZoom&quot;: 18, &quot;minZoom&quot;: 0, &quot;noWrap&quot;: false, &quot;opacity&quot;: 1, &quot;subdomains&quot;: &quot;abc&quot;, &quot;tms&quot;: false}\n",
       "            ).addTo(map_7ce37364efcd9cb56f169de86cde9d8d);\n",
       "        \n",
       "&lt;/script&gt;\" style=\"position:absolute;width:100%;height:100%;left:0;top:0;border:none !important;\" allowfullscreen webkitallowfullscreen mozallowfullscreen></iframe></div></div>"
      ],
      "text/plain": [
       "<folium.folium.Map at 0x28fb22fff40>"
      ]
     },
     "execution_count": 81,
     "metadata": {},
     "output_type": "execute_result"
    }
   ],
   "source": [
    "# 7B:\n",
    "# Import the folium library\n",
    "import folium\n",
    "# https://www.google.com/maps\n",
    "# Build the default map for a specific location\n",
    "Map = folium.Map(location=[31.969938215554237, 34.77330218201489], zoom_start=20)\n",
    "# Save the map to a specific location in my laptop\n",
    "Map.save('Rishon_map.html')\n",
    "Map"
   ]
  },
  {
   "cell_type": "code",
   "execution_count": 84,
   "id": "thermal-member",
   "metadata": {},
   "outputs": [
    {
     "data": {
      "text/html": [
       "<div style=\"width:100%;\"><div style=\"position:relative;width:100%;height:0;padding-bottom:60%;\"><span style=\"color:#565656\">Make this Notebook Trusted to load map: File -> Trust Notebook</span><iframe srcdoc=\"&lt;!DOCTYPE html&gt;\n",
       "&lt;head&gt;    \n",
       "    &lt;meta http-equiv=&quot;content-type&quot; content=&quot;text/html; charset=UTF-8&quot; /&gt;\n",
       "    \n",
       "        &lt;script&gt;\n",
       "            L_NO_TOUCH = false;\n",
       "            L_DISABLE_3D = false;\n",
       "        &lt;/script&gt;\n",
       "    \n",
       "    &lt;style&gt;html, body {width: 100%;height: 100%;margin: 0;padding: 0;}&lt;/style&gt;\n",
       "    &lt;style&gt;#map {position:absolute;top:0;bottom:0;right:0;left:0;}&lt;/style&gt;\n",
       "    &lt;script src=&quot;https://cdn.jsdelivr.net/npm/leaflet@1.6.0/dist/leaflet.js&quot;&gt;&lt;/script&gt;\n",
       "    &lt;script src=&quot;https://code.jquery.com/jquery-1.12.4.min.js&quot;&gt;&lt;/script&gt;\n",
       "    &lt;script src=&quot;https://maxcdn.bootstrapcdn.com/bootstrap/3.2.0/js/bootstrap.min.js&quot;&gt;&lt;/script&gt;\n",
       "    &lt;script src=&quot;https://cdnjs.cloudflare.com/ajax/libs/Leaflet.awesome-markers/2.0.2/leaflet.awesome-markers.js&quot;&gt;&lt;/script&gt;\n",
       "    &lt;link rel=&quot;stylesheet&quot; href=&quot;https://cdn.jsdelivr.net/npm/leaflet@1.6.0/dist/leaflet.css&quot;/&gt;\n",
       "    &lt;link rel=&quot;stylesheet&quot; href=&quot;https://maxcdn.bootstrapcdn.com/bootstrap/3.2.0/css/bootstrap.min.css&quot;/&gt;\n",
       "    &lt;link rel=&quot;stylesheet&quot; href=&quot;https://maxcdn.bootstrapcdn.com/bootstrap/3.2.0/css/bootstrap-theme.min.css&quot;/&gt;\n",
       "    &lt;link rel=&quot;stylesheet&quot; href=&quot;https://maxcdn.bootstrapcdn.com/font-awesome/4.6.3/css/font-awesome.min.css&quot;/&gt;\n",
       "    &lt;link rel=&quot;stylesheet&quot; href=&quot;https://cdnjs.cloudflare.com/ajax/libs/Leaflet.awesome-markers/2.0.2/leaflet.awesome-markers.css&quot;/&gt;\n",
       "    &lt;link rel=&quot;stylesheet&quot; href=&quot;https://cdn.jsdelivr.net/gh/python-visualization/folium/folium/templates/leaflet.awesome.rotate.min.css&quot;/&gt;\n",
       "    \n",
       "            &lt;meta name=&quot;viewport&quot; content=&quot;width=device-width,\n",
       "                initial-scale=1.0, maximum-scale=1.0, user-scalable=no&quot; /&gt;\n",
       "            &lt;style&gt;\n",
       "                #map_52b4cbd3c08294f4d096b32b71f1cfed {\n",
       "                    position: relative;\n",
       "                    width: 100.0%;\n",
       "                    height: 100.0%;\n",
       "                    left: 0.0%;\n",
       "                    top: 0.0%;\n",
       "                }\n",
       "            &lt;/style&gt;\n",
       "        \n",
       "&lt;/head&gt;\n",
       "&lt;body&gt;    \n",
       "    \n",
       "            &lt;div class=&quot;folium-map&quot; id=&quot;map_52b4cbd3c08294f4d096b32b71f1cfed&quot; &gt;&lt;/div&gt;\n",
       "        \n",
       "&lt;/body&gt;\n",
       "&lt;script&gt;    \n",
       "    \n",
       "            var map_52b4cbd3c08294f4d096b32b71f1cfed = L.map(\n",
       "                &quot;map_52b4cbd3c08294f4d096b32b71f1cfed&quot;,\n",
       "                {\n",
       "                    center: [50.84533169868087, 4.349924625400005],\n",
       "                    crs: L.CRS.EPSG3857,\n",
       "                    zoom: 20,\n",
       "                    zoomControl: true,\n",
       "                    preferCanvas: false,\n",
       "                }\n",
       "            );\n",
       "\n",
       "            \n",
       "\n",
       "        \n",
       "    \n",
       "            var tile_layer_e78531822c6c1d11269306c3242258a1 = L.tileLayer(\n",
       "                &quot;https://{s}.tile.openstreetmap.org/{z}/{x}/{y}.png&quot;,\n",
       "                {&quot;attribution&quot;: &quot;Data by \\u0026copy; \\u003ca href=\\&quot;http://openstreetmap.org\\&quot;\\u003eOpenStreetMap\\u003c/a\\u003e, under \\u003ca href=\\&quot;http://www.openstreetmap.org/copyright\\&quot;\\u003eODbL\\u003c/a\\u003e.&quot;, &quot;detectRetina&quot;: false, &quot;maxNativeZoom&quot;: 18, &quot;maxZoom&quot;: 18, &quot;minZoom&quot;: 0, &quot;noWrap&quot;: false, &quot;opacity&quot;: 1, &quot;subdomains&quot;: &quot;abc&quot;, &quot;tms&quot;: false}\n",
       "            ).addTo(map_52b4cbd3c08294f4d096b32b71f1cfed);\n",
       "        \n",
       "&lt;/script&gt;\" style=\"position:absolute;width:100%;height:100%;left:0;top:0;border:none !important;\" allowfullscreen webkitallowfullscreen mozallowfullscreen></iframe></div></div>"
      ],
      "text/plain": [
       "<folium.folium.Map at 0x28fb3ba3e50>"
      ]
     },
     "execution_count": 84,
     "metadata": {},
     "output_type": "execute_result"
    }
   ],
   "source": [
    "# 7C:\n",
    "# 50.84533169868087, 4.349924625400005\n",
    "# 7B:\n",
    "# Import the folium library\n",
    "import folium\n",
    "# https://www.google.com/maps\n",
    "# Build the default map for a specific location\n",
    "Map = folium.Map(location=[50.84533169868087, 4.349924625400005], zoom_start=20)\n",
    "# Save the map to a specific location in my laptop\n",
    "Map.save('Ru_du_Lombard_map.html')\n",
    "Map"
   ]
  },
  {
   "cell_type": "markdown",
   "id": "74d5698f",
   "metadata": {
    "direction": "rtl"
   },
   "source": [
    "#### שאלה מספר 8) ניתוח נתונים , קרטריון בודד\n",
    "* עבור כל שנה בנה רשימה חדשה בשם : LCount, המציגה את ממוצע תוחלת החיים (שדה : lifeExp)\n",
    "* חשב את ממוצע הממוצעים לכלל השנים  "
   ]
  },
  {
   "cell_type": "code",
   "execution_count": 98,
   "id": "21be0086",
   "metadata": {},
   "outputs": [
    {
     "name": "stdout",
     "output_type": "stream",
     "text": [
      "59.474439366197196\n"
     ]
    }
   ],
   "source": [
    "# read the data (on the web)\n",
    "data = pd.read_csv('https://raw.githubusercontent.com/holtzy/The-Python-Graph-Gallery/master/static/data/gapminderData.csv')\n",
    "data = data.groupby('year').mean()['lifeExp']\n",
    "data = data.reset_index()\n",
    "data\n",
    "dataarr=[]\n",
    "for i in data['lifeExp']:\n",
    "    dataarr.append(i)\n",
    "kon=sum(dataarr)/len(dataarr)\n",
    "print(kon)\n"
   ]
  },
  {
   "cell_type": "markdown",
   "id": "f22d1d4a",
   "metadata": {
    "direction": "rtl"
   },
   "source": [
    "#### שאלה מספר 9) ניתוח נתונים , קרטריון מורכב\n",
    "* הצג עבור יבשת Asia (שדה : continent)  ותוחלת חיים (שדה : lifeExp)  גבוהה מ 80 את סכום שדה : gdpPercap \n",
    "* שנה את הקרטריון ל OR ומצא את הסכום\n",
    "* ממש גרף countplot \n",
    "* ממש גרף  relplot \n",
    "* לפי כללים אלו :\n",
    "* x = year\n",
    "* y = lifeExp\n",
    "* hue = country"
   ]
  },
  {
   "cell_type": "code",
   "execution_count": 112,
   "id": "5b69a3b4",
   "metadata": {},
   "outputs": [
    {
     "name": "stdout",
     "output_type": "stream",
     "text": [
      "Data =               country  year          pop continent  lifeExp    gdpPercap\n",
      "670  Hong Kong, China  2002    6762476.0      Asia   81.495  30209.01516\n",
      "671  Hong Kong, China  2007    6980412.0      Asia   82.208  39724.97867\n",
      "767            Israel  2007    6426679.0      Asia   80.745  25523.27710\n",
      "801             Japan  1997  125956499.0      Asia   80.690  28816.58499\n",
      "802             Japan  2002  127065841.0      Asia   82.000  28604.59190\n",
      "803             Japan  2007  127467972.0      Asia   82.603  31656.06806 \n",
      " Sum = 184534.51588\n"
     ]
    }
   ],
   "source": [
    "data = pd.read_csv('https://raw.githubusercontent.com/holtzy/The-Python-Graph-Gallery/master/static/data/gapminderData.csv')\n",
    "crit1=data['continent']=='Asia'\n",
    "crit2=data['lifeExp']>80\n",
    "data1 = data.loc[crit1 & crit2]\n",
    "TheSum=data1['gdpPercap'].sum()\n",
    "print(f'Data = {data1} \\n Sum = {TheSum}')"
   ]
  },
  {
   "cell_type": "code",
   "execution_count": 114,
   "id": "6945c368",
   "metadata": {},
   "outputs": [
    {
     "name": "stdout",
     "output_type": "stream",
     "text": [
      "Data =           country  year         pop continent  lifeExp    gdpPercap\n",
      "0     Afghanistan  1952   8425333.0      Asia   28.801   779.445314\n",
      "1     Afghanistan  1957   9240934.0      Asia   30.332   820.853030\n",
      "2     Afghanistan  1962  10267083.0      Asia   31.997   853.100710\n",
      "3     Afghanistan  1967  11537966.0      Asia   34.020   836.197138\n",
      "4     Afghanistan  1972  13079460.0      Asia   36.088   739.981106\n",
      "...           ...   ...         ...       ...      ...          ...\n",
      "1675  Yemen, Rep.  1987  11219340.0      Asia   52.922  1971.741538\n",
      "1676  Yemen, Rep.  1992  13367997.0      Asia   55.599  1879.496673\n",
      "1677  Yemen, Rep.  1997  15826497.0      Asia   58.020  2117.484526\n",
      "1678  Yemen, Rep.  2002  18701257.0      Asia   60.308  2234.820827\n",
      "1679  Yemen, Rep.  2007  22211743.0      Asia   62.698  2280.769906\n",
      "\n",
      "[411 rows x 6 columns] \n",
      " Sum = 3623597.7714491\n"
     ]
    }
   ],
   "source": [
    "data2 = data.loc[crit1 | crit2]\n",
    "TheSum2=data2['gdpPercap'].sum()\n",
    "print(f'Data = {data2} \\n Sum = {TheSum2}')"
   ]
  },
  {
   "cell_type": "code",
   "execution_count": 117,
   "id": "bd9b4f92",
   "metadata": {},
   "outputs": [
    {
     "data": {
      "text/plain": [
       "<AxesSubplot:xlabel='year', ylabel='count'>"
      ]
     },
     "execution_count": 117,
     "metadata": {},
     "output_type": "execute_result"
    },
    {
     "data": {
      "image/png": "[encoded data removed]",
      "text/plain": [
       "<Figure size 432x288 with 1 Axes>"
      ]
     },
     "metadata": {
      "needs_background": "light"
     },
     "output_type": "display_data"
    }
   ],
   "source": [
    "sns.countplot(x='year',data=data2)"
   ]
  },
  {
   "cell_type": "code",
   "execution_count": 119,
   "id": "e4fe31f4",
   "metadata": {},
   "outputs": [
    {
     "data": {
      "text/plain": [
       "<seaborn.axisgrid.FacetGrid at 0x28fb4480d90>"
      ]
     },
     "execution_count": 119,
     "metadata": {},
     "output_type": "execute_result"
    },
    {
     "data": {
      "image/png": "[encoded data removed]",
      "text/plain": [
       "<Figure size 485x360 with 1 Axes>"
      ]
     },
     "metadata": {
      "needs_background": "light"
     },
     "output_type": "display_data"
    }
   ],
   "source": [
    "sns.relplot(x='year',y='lifeExp',hue='country',data=data1)"
   ]
  },
  {
   "cell_type": "code",
   "execution_count": null,
   "id": "3d7362b3",
   "metadata": {},
   "outputs": [],
   "source": []
  }
 ],
 "metadata": {
  "kernelspec": {
   "display_name": "Python 3",
   "language": "python",
   "name": "python3"
  },
  "language_info": {
   "codemirror_mode": {
    "name": "ipython",
    "version": 3
   },
   "file_extension": ".py",
   "mimetype": "text/x-python",
   "name": "python",
   "nbconvert_exporter": "python",
   "pygments_lexer": "ipython3",
   "version": "3.8.8"
  }
 },
 "nbformat": 4,
 "nbformat_minor": 5
}
