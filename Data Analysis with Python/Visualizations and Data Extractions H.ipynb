{
 "cells": [
 
  {
   "cell_type": "code",
   "execution_count": 18,
   "id": "killing-framing",
   "metadata": {},
   "outputs": [],
   "source": [
    "import pandas as pd\n",
    "import numpy as np\n",
    "import scipy.stats as si\n",
    "import sympy as sy\n",
    "from sympy.stats import Normal, cdf\n",
    "from sympy import init_printing\n",
    "init_printing()"
   ]
  },
  {
   "cell_type": "markdown",
   "id": "dated-interpretation",
   "metadata": {
    "direction": "rtl"
   },
   "source": [
    "#### Question number 1) Options\n",
    "* Block number 1A shows the reception of updated Tel Aviv Index 35 data\n",
    "* Block number 1B introduces a function to display the B&S value for a Call stock\n",
    "* Block number 1C shows the use of the function and the display of the result for a certain option, the option name is 1800 and has five days of expiration according to the rules of the function\n",
    "* Block number 1D shows the link of the appropriate website for obtaining information (using read_html)\n",
    "* A. Check if the B&S value is appropriate and how far it passes an option named: 'C 001530 W3', its expiration days according to the rules out of 365:\n",
    "* A1. W1=5\n",
    "* A1. W2=10\n",
    "* A1. W3=15\n",
    "* A1. JUN=20\n",
    "* Note: r, sigma are fixed according to the example\n",
    "* It can be assumed that the fixed position of the option name (Strike) is from position 9 to 15, the position of the week number is from position 17 to 18\n",
    "\n",
    "* Display in a unique way the options that start with the letter C, i.e. call options, and in a unique list the options that start with the letter P, i.e. put options\n",
    "* View a unique listing called NearTheMoney\n",
    "* Purpose to display options close to the money (defined as the 35 index found in the variable Madad35Rate\n",
    "* Close to the money will be defined by us at a distance of 50 points above and below the Tel Aviv 35 index found in the variable Madad35Rate\n",
    "* Note for help in running over the names of the papers, it can be assumed that [1:8] is the position of the strike value (Stirke)\n",
    "​ "
   ]
  },
  {
   "cell_type": "code",
   "execution_count": 19,
   "id": "amended-promotion",
   "metadata": {},
   "outputs": [
    {
     "data": {
      "image/png": "[encoded data removed]",
      "text/latex": [
       "$\\displaystyle 1839.8$"
      ],
      "text/plain": [
       "1839.8"
      ]
     },
     "execution_count": 19,
     "metadata": {},
     "output_type": "execute_result"
    }
   ],
   "source": [
    "# 1A :\n",
    "# מדד ת\"א-35 TA35 IDX\n",
    "Madad35='https://www.globes.co.il/portal/instrument.aspx?instrumentid=980'\n",
    "Madad35Rate=float(pd.read_html(Madad35)[5][1][1])\n",
    "Madad35Rate"
   ]
  },
  {
   "cell_type": "code",
   "execution_count": 20,
   "id": "front-drain",
   "metadata": {},
   "outputs": [],
   "source": [
    "# 1B:\n",
    "def euro_vanilla(S, K, T, r, sigma, option = 'call'):\n",
    "    #S: spot price מדד תא 35\n",
    "    #K: strike price שם האופציה\n",
    "    #T: time to maturity ימים לפקיעה\n",
    "    #r: interest rate   ריבית חסרת סיכון פריים\n",
    "    #sigma: volatility of underlying asset  סטיית התקן (תלמדו בקורס נגזרים) ניקח ערך קבוע 0.25\n",
    "    d1 = (np.log(S / K) + (r + 0.5 * sigma ** 2) * T) / (sigma * np.sqrt(T))\n",
    "    d2 = (np.log(S / K) + (r - 0.5 * sigma ** 2) * T) / (sigma * np.sqrt(T))\n",
    "    if option == 'call':\n",
    "        result = (S * si.norm.cdf(d1, 0.0, 1.0) - K * np.exp(-r * T) * si.norm.cdf(d2, 0.0, 1.0))\n",
    "    if option == 'put':\n",
    "        result = (K * np.exp(-r * T) * si.norm.cdf(-d2, 0.0, 1.0) - S * si.norm.cdf(-d1, 0.0, 1.0))\n",
    "    return result*100"
   ]
  },
  {
   "cell_type": "code",
   "execution_count": 21,
   "id": "efficient-internet",
   "metadata": {},
   "outputs": [
    {
     "data": {
      "image/png": "[encoded data removed]",
      "text/latex": [
       "$\\displaystyle 4716.58445565097$"
      ],
      "text/plain": [
       "4716.584455650968"
      ]
     },
     "execution_count": 21,
     "metadata": {},
     "output_type": "execute_result"
    }
   ],
   "source": [
    "# 1C:\n",
    "BS_Result=euro_vanilla(Madad35Rate, 1800, 5/365, 0.0185, 0.25)\n",
    "BS_Result"
   ]
  },
  {
   "cell_type": "code",
   "execution_count": 22,
   "id": "005a7f33",
   "metadata": {},
   "outputs": [],
   "source": [
    "# 1D:\n",
    "BizData ='https://www.bizportal.co.il/shukhahon/sh_maof.shtml?Sug=41&stage=tr&mbase=0'\n",
    "BizCalc='https://www.bizportal.co.il/shukhahon/sh_maof.shtml?Sug=41&stage=calc&mbase=0'"
   ]
  },
  {
   "cell_type": "code",
   "execution_count": 23,
   "id": "d0f5eb6e",
   "metadata": {},
   "outputs": [
    {
     "data": {
      "text/html": [
       "<div>\n",
       "<style scoped>\n",
       "    .dataframe tbody tr th:only-of-type {\n",
       "        vertical-align: middle;\n",
       "    }\n",
       "\n",
       "    .dataframe tbody tr th {\n",
       "        vertical-align: top;\n",
       "    }\n",
       "\n",
       "    .dataframe thead th {\n",
       "        text-align: right;\n",
       "    }\n",
       "</style>\n",
       "<table border=\"1\" class=\"dataframe\">\n",
       "  <thead>\n",
       "    <tr style=\"text-align: right;\">\n",
       "      <th></th>\n",
       "      <th>שם נייר</th>\n",
       "      <th>שער</th>\n",
       "    </tr>\n",
       "  </thead>\n",
       "  <tbody>\n",
       "  </tbody>\n",
       "</table>\n",
       "</div>"
      ],
      "text/plain": [
       "Empty DataFrame\n",
       "Columns: [שם נייר, שער]\n",
       "Index: []"
      ]
     },
     "execution_count": 23,
     "metadata": {},
     "output_type": "execute_result"
    }
   ],
   "source": [
    "# שער הנייר :\n",
    "BD=pd.read_html(BizData)[0][['שם נייר','שער']]\n",
    "BD\n",
    "Chk=BD['שם נייר']=='C 001530 W3'\n",
    "BD.loc[Chk]"
   ]
  },
  {
   "cell_type": "code",
   "execution_count": 24,
   "id": "446f354f",
   "metadata": {},
   "outputs": [
    {
     "data": {
      "text/html": [
       "<div>\n",
       "<style scoped>\n",
       "    .dataframe tbody tr th:only-of-type {\n",
       "        vertical-align: middle;\n",
       "    }\n",
       "\n",
       "    .dataframe tbody tr th {\n",
       "        vertical-align: top;\n",
       "    }\n",
       "\n",
       "    .dataframe thead th {\n",
       "        text-align: right;\n",
       "    }\n",
       "</style>\n",
       "<table border=\"1\" class=\"dataframe\">\n",
       "  <thead>\n",
       "    <tr style=\"text-align: right;\">\n",
       "      <th></th>\n",
       "      <th>שם נייר</th>\n",
       "      <th>שווי B&amp;S</th>\n",
       "    </tr>\n",
       "  </thead>\n",
       "  <tbody>\n",
       "  </tbody>\n",
       "</table>\n",
       "</div>"
      ],
      "text/plain": [
       "Empty DataFrame\n",
       "Columns: [שם נייר, שווי B&S]\n",
       "Index: []"
      ]
     },
     "execution_count": 24,
     "metadata": {},
     "output_type": "execute_result"
    }
   ],
   "source": [
    "# שווי B&S :\n",
    "BC=pd.read_html(BizCalc)[0][['שם נייר','שווי B&S']]\n",
    "BC\n",
    "Chk=BC['שם נייר']=='C 001530 W3'\n",
    "BC.loc[Chk]"
   ]
  },
  {
   "cell_type": "code",
   "execution_count": 25,
   "id": "binding-hunger",
   "metadata": {},
   "outputs": [
    {
     "data": {
      "image/png": "[encoded data removed]",
      "text/latex": [
       "$\\displaystyle \\left[ \\right]$"
      ],
      "text/plain": [
       "[]"
      ]
     },
     "execution_count": 25,
     "metadata": {},
     "output_type": "execute_result"
    }
   ],
   "source": [
    "CallList=[];PutList=[];NearTheMoney=[]\n",
    "for i in BC['שם נייר']:\n",
    "    if str(i)[0]=='C':\n",
    "        CallList.append(i)\n",
    "    else:\n",
    "        PutList.append(i)\n",
    "    try:\n",
    "        if int(str(i)[1:8])>(Madad35Rate-50) and int(str(i)[1:8])<(Madad35Rate+50):\n",
    "            NearTheMoney.append(i)\n",
    "    except:\n",
    "        pass\n",
    "# CallList\n",
    "# PutList\n",
    "NearTheMoney"
   ]
  },
  {
   "cell_type": "markdown",
   "id": "exterior-bernard",
   "metadata": {
    "direction": "rtl"
   },
   "source": [
    "#### Question number 2) Analysis of stock returns\n",
    "* If necessary, install block 2A\n",
    "* Run block number 2B\n",
    "* Consolidate results of 'Adj Close' in one database called AdjCloseStock\n",
    "* View updated closing price table\n",
    "* View yield table\n",
    "* Show returns graph only passes LCID share\n",
    "* These parameters must be used when creating the graph:\n",
    "* 1.figsize=(25,5)\n",
    "* 2. linestyle=':'\n",
    "* 3. With the help of a small marker\n",
    "* 4. In blue markerfacecolor\n",
    "* 5. markersize=8"
   ]
  },
  {
   "cell_type": "code",
   "execution_count": 26,
   "id": "sought-syndication",
   "metadata": {},
   "outputs": [],
   "source": [
    "# 2A:\n",
    "#!pip install yfinance"
   ]
  },
  {
   "cell_type": "code",
   "execution_count": 27,
   "id": "considered-columbia",
   "metadata": {},
   "outputs": [],
   "source": [
    "# 2B:\n",
    "import yfinance as yf\n",
    "from datetime import datetime\n",
    "start_date = datetime(2021, 1, 1)\n",
    "end_date = datetime(2021, 12, 31)\n",
    "tickers=['AMZN','TSLA','LCID','V',]"
   ]
  },
  {
   "cell_type": "code",
   "execution_count": 28,
   "id": "sized-creature",
   "metadata": {},
   "outputs": [
    {
     "name": "stdout",
     "output_type": "stream",
     "text": [
      "[*********************100%***********************]  1 of 1 completed\n",
      "[*********************100%***********************]  1 of 1 completed\n",
      "[*********************100%***********************]  1 of 1 completed\n",
      "[*********************100%***********************]  1 of 1 completed\n"
     ]
    },
    {
     "data": {
      "text/html": [
       "<div>\n",
       "<style scoped>\n",
       "    .dataframe tbody tr th:only-of-type {\n",
       "        vertical-align: middle;\n",
       "    }\n",
       "\n",
       "    .dataframe tbody tr th {\n",
       "        vertical-align: top;\n",
       "    }\n",
       "\n",
       "    .dataframe thead th {\n",
       "        text-align: right;\n",
       "    }\n",
       "</style>\n",
       "<table border=\"1\" class=\"dataframe\">\n",
       "  <thead>\n",
       "    <tr style=\"text-align: right;\">\n",
       "      <th></th>\n",
       "      <th>AMZN</th>\n",
       "      <th>TSLA</th>\n",
       "      <th>LCID</th>\n",
       "      <th>V</th>\n",
       "    </tr>\n",
       "    <tr>\n",
       "      <th>Date</th>\n",
       "      <th></th>\n",
       "      <th></th>\n",
       "      <th></th>\n",
       "      <th></th>\n",
       "    </tr>\n",
       "  </thead>\n",
       "  <tbody>\n",
       "    <tr>\n",
       "      <th>2020-12-31</th>\n",
       "      <td>162.846497</td>\n",
       "      <td>235.223328</td>\n",
       "      <td>10.01</td>\n",
       "      <td>214.062561</td>\n",
       "    </tr>\n",
       "    <tr>\n",
       "      <th>2021-01-04</th>\n",
       "      <td>159.331497</td>\n",
       "      <td>243.256668</td>\n",
       "      <td>10.04</td>\n",
       "      <td>213.113297</td>\n",
       "    </tr>\n",
       "    <tr>\n",
       "      <th>2021-01-05</th>\n",
       "      <td>160.925507</td>\n",
       "      <td>245.036667</td>\n",
       "      <td>10.02</td>\n",
       "      <td>209.932617</td>\n",
       "    </tr>\n",
       "    <tr>\n",
       "      <th>2021-01-06</th>\n",
       "      <td>156.919006</td>\n",
       "      <td>251.993332</td>\n",
       "      <td>10.01</td>\n",
       "      <td>208.082962</td>\n",
       "    </tr>\n",
       "    <tr>\n",
       "      <th>2021-01-07</th>\n",
       "      <td>158.108002</td>\n",
       "      <td>272.013336</td>\n",
       "      <td>10.03</td>\n",
       "      <td>209.247589</td>\n",
       "    </tr>\n",
       "  </tbody>\n",
       "</table>\n",
       "</div>"
      ],
      "text/plain": [
       "                  AMZN        TSLA   LCID           V\n",
       "Date                                                 \n",
       "2020-12-31  162.846497  235.223328  10.01  214.062561\n",
       "2021-01-04  159.331497  243.256668  10.04  213.113297\n",
       "2021-01-05  160.925507  245.036667  10.02  209.932617\n",
       "2021-01-06  156.919006  251.993332  10.01  208.082962\n",
       "2021-01-07  158.108002  272.013336  10.03  209.247589"
      ]
     },
     "execution_count": 28,
     "metadata": {},
     "output_type": "execute_result"
    }
   ],
   "source": [
    "AllStock= []\n",
    "for ticker in tickers:\n",
    "    try:\n",
    "        prices = yf.download(ticker,start_date,end_date)['Adj Close']\n",
    "        prices = pd.DataFrame(prices)\n",
    "        prices.columns = [ticker]\n",
    "        AllStock.append(prices)\n",
    "    except:\n",
    "        pass\n",
    "    AdjCloseStock = pd.concat(AllStock,axis=1)\n",
    "AdjCloseStock.sort_index(inplace=True)\n",
    "AdjCloseStock.head()"
   ]
  },
  {
   "cell_type": "code",
   "execution_count": 29,
   "id": "finite-tennis",
   "metadata": {},
   "outputs": [
    {
     "data": {
      "text/html": [
       "<div>\n",
       "<style scoped>\n",
       "    .dataframe tbody tr th:only-of-type {\n",
       "        vertical-align: middle;\n",
       "    }\n",
       "\n",
       "    .dataframe tbody tr th {\n",
       "        vertical-align: top;\n",
       "    }\n",
       "\n",
       "    .dataframe thead th {\n",
       "        text-align: right;\n",
       "    }\n",
       "</style>\n",
       "<table border=\"1\" class=\"dataframe\">\n",
       "  <thead>\n",
       "    <tr style=\"text-align: right;\">\n",
       "      <th></th>\n",
       "      <th>AMZN</th>\n",
       "      <th>TSLA</th>\n",
       "      <th>LCID</th>\n",
       "      <th>V</th>\n",
       "    </tr>\n",
       "    <tr>\n",
       "      <th>Date</th>\n",
       "      <th></th>\n",
       "      <th></th>\n",
       "      <th></th>\n",
       "      <th></th>\n",
       "    </tr>\n",
       "  </thead>\n",
       "  <tbody>\n",
       "    <tr>\n",
       "      <th>2021-01-04</th>\n",
       "      <td>-0.021585</td>\n",
       "      <td>0.034152</td>\n",
       "      <td>0.002997</td>\n",
       "      <td>-0.004435</td>\n",
       "    </tr>\n",
       "    <tr>\n",
       "      <th>2021-01-05</th>\n",
       "      <td>0.010004</td>\n",
       "      <td>0.007317</td>\n",
       "      <td>-0.001992</td>\n",
       "      <td>-0.014925</td>\n",
       "    </tr>\n",
       "    <tr>\n",
       "      <th>2021-01-06</th>\n",
       "      <td>-0.024897</td>\n",
       "      <td>0.028390</td>\n",
       "      <td>-0.000998</td>\n",
       "      <td>-0.008811</td>\n",
       "    </tr>\n",
       "    <tr>\n",
       "      <th>2021-01-07</th>\n",
       "      <td>0.007577</td>\n",
       "      <td>0.079447</td>\n",
       "      <td>0.001998</td>\n",
       "      <td>0.005597</td>\n",
       "    </tr>\n",
       "    <tr>\n",
       "      <th>2021-01-08</th>\n",
       "      <td>0.006496</td>\n",
       "      <td>0.078403</td>\n",
       "      <td>0.000000</td>\n",
       "      <td>0.007670</td>\n",
       "    </tr>\n",
       "  </tbody>\n",
       "</table>\n",
       "</div>"
      ],
      "text/plain": [
       "                AMZN      TSLA      LCID         V\n",
       "Date                                              \n",
       "2021-01-04 -0.021585  0.034152  0.002997 -0.004435\n",
       "2021-01-05  0.010004  0.007317 -0.001992 -0.014925\n",
       "2021-01-06 -0.024897  0.028390 -0.000998 -0.008811\n",
       "2021-01-07  0.007577  0.079447  0.001998  0.005597\n",
       "2021-01-08  0.006496  0.078403  0.000000  0.007670"
      ]
     },
     "execution_count": 29,
     "metadata": {},
     "output_type": "execute_result"
    }
   ],
   "source": [
    "Stock_returns=AdjCloseStock.pct_change()[1:]\n",
    "Stock_returns.head()"
   ]
  },
  {
   "cell_type": "code",
   "execution_count": 30,
   "id": "married-drinking",
   "metadata": {},
   "outputs": [
    {
     "data": {
      "image/png": "[encoded data removed]",
      "text/plain": [
       "<Figure size 1800x360 with 1 Axes>"
      ]
     },
     "metadata": {
      "needs_background": "light"
     },
     "output_type": "display_data"
    }
   ],
   "source": [
    "Stock_returns['LCID'].plot(figsize=(25,5), linestyle=':', marker='v', markerfacecolor='blue',markersize=8);"
   ]
  },
  {
   "cell_type": "markdown",
   "id": "automotive-least",
   "metadata": {
    "direction": "rtl"
   },
   "source": [
    "#### Question number 3) Analysis of financial data\n",
    "* Section A)\n",
    "    * Show from the returns file only the positive AMZN returns and sum them\n",
    "    * Show from the returns file only the negative AMZN returns and sum them\n",
    "    * Show the difference between the sum of the positive and negative returns\n",
    "* section b)\n",
    "    * Show the sum of returns in all four shares in the months of October to December 2021\n",
    "    * Show return amount for each share in the period and for all shares together"
   ]
  },
  {
   "cell_type": "code",
   "execution_count": 31,
   "id": "radical-airplane",
   "metadata": {},
   "outputs": [
    {
     "name": "stdout",
     "output_type": "stream",
     "text": [
      "The amount of the positives : 1.464990956487904\n",
      "The amount of negatives     : -1.4010637224676465\n",
      "The Diff is 2.8660546789555505\n"
     ]
    }
   ],
   "source": [
    "Plus=Stock_returns[Stock_returns['AMZN']>0]['AMZN']\n",
    "Minus=Stock_returns[Stock_returns['AMZN']<0]['AMZN']\n",
    "print(f'The amount of the positives : {Plus.sum()}\\nThe amount of negatives     : {Minus.sum()}')\n",
    "print(f'The Diff is {Plus.sum()-Minus.sum()}')"
   ]
  },
  {
   "cell_type": "code",
   "execution_count": 32,
   "id": "addressed-surname",
   "metadata": {},
   "outputs": [
    {
     "name": "stdout",
     "output_type": "stream",
     "text": [
      "Total each Stock from 2021-10-01 00:00:00 till 2021-12-31 00:00:00\n",
      "AMZN    0.034222\n",
      "TSLA    0.368437\n",
      "LCID    0.582398\n",
      "V      -0.007916\n",
      "dtype: float64\n",
      "\n",
      "Total All Stock from 2021-10-01 00:00:00 till 2021-12-31 00:00:00\n",
      "0.9771416098529269\n"
     ]
    }
   ],
   "source": [
    "BeginDate = datetime(2021, 10, 1)\n",
    "EndDate = datetime(2021, 12, 31)\n",
    "Crt1=Stock_returns.index>=BeginDate\n",
    "Crt2=Stock_returns.index<=EndDate\n",
    "ByDate=Stock_returns.loc[Crt1 & Crt2]\n",
    "print(f'Total each Stock from {BeginDate} till {EndDate}\\n{ByDate.sum()}')\n",
    "print()\n",
    "print(f'Total All Stock from {BeginDate} till {EndDate}\\n{ByDate.sum().sum()}')"
   ]
  },
  {
   "cell_type": "code",
   "execution_count": null,
   "id": "cd3d87d5",
   "metadata": {},
   "outputs": [],
   "source": []
  },
  {
   "cell_type": "code",
   "execution_count": null,
   "id": "79cb4d95",
   "metadata": {},
   "outputs": [],
   "source": []
  }
 ],
 "metadata": {
  "kernelspec": {
   "display_name": "Python 3",
   "language": "python",
   "name": "python3"
  },
  "language_info": {
   "codemirror_mode": {
    "name": "ipython",
    "version": 3
   },
   "file_extension": ".py",
   "mimetype": "text/x-python",
   "name": "python",
   "nbconvert_exporter": "python",
   "pygments_lexer": "ipython3",
   "version": "3.8.8"
  }
 },
 "nbformat": 4,
 "nbformat_minor": 5
}
