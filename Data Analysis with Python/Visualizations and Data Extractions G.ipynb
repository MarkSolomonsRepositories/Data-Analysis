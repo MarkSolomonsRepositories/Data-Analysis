{
 "cells": [
  {
   "cell_type": "code",
   "execution_count": 28,
   "id": "corrected-coupon",
   "metadata": {},
   "outputs": [],
   "source": [
    "# The dataframe that we will be using contains the closing prices of Amazon stock \n",
    "# of the last one month (June 24 – July 23, 2020). "
   ]
  },
  {
   "cell_type": "code",
   "execution_count": 1,
   "id": "atmospheric-restaurant",
   "metadata": {},
   "outputs": [],
   "source": [
    "# Import Data\n",
    "import pandas as pd\n",
    "# amzn = pd.read_csv('AMZN.csv')\n",
    "amzn = pd.read_csv('AMZN_Small.csv')"
   ]
  },
  {
   "cell_type": "code",
   "execution_count": 2,
   "id": "willing-pitch",
   "metadata": {},
   "outputs": [
    {
     "data": {
      "text/html": [
       "<div>\n",
       "<style scoped>\n",
       "    .dataframe tbody tr th:only-of-type {\n",
       "        vertical-align: middle;\n",
       "    }\n",
       "\n",
       "    .dataframe tbody tr th {\n",
       "        vertical-align: top;\n",
       "    }\n",
       "\n",
       "    .dataframe thead th {\n",
       "        text-align: right;\n",
       "    }\n",
       "</style>\n",
       "<table border=\"1\" class=\"dataframe\">\n",
       "  <thead>\n",
       "    <tr style=\"text-align: right;\">\n",
       "      <th></th>\n",
       "      <th>Date</th>\n",
       "      <th>Open</th>\n",
       "      <th>High</th>\n",
       "      <th>Low</th>\n",
       "      <th>Close</th>\n",
       "      <th>Adj Close</th>\n",
       "      <th>Volume</th>\n",
       "    </tr>\n",
       "  </thead>\n",
       "  <tbody>\n",
       "    <tr>\n",
       "      <th>0</th>\n",
       "      <td>2022-02-28</td>\n",
       "      <td>3048.500000</td>\n",
       "      <td>3089.000000</td>\n",
       "      <td>3017.000000</td>\n",
       "      <td>3071.260010</td>\n",
       "      <td>3071.260010</td>\n",
       "      <td>2878500</td>\n",
       "    </tr>\n",
       "    <tr>\n",
       "      <th>1</th>\n",
       "      <td>2022-03-01</td>\n",
       "      <td>3054.649902</td>\n",
       "      <td>3081.979980</td>\n",
       "      <td>2999.540039</td>\n",
       "      <td>3022.840088</td>\n",
       "      <td>3022.840088</td>\n",
       "      <td>2243700</td>\n",
       "    </tr>\n",
       "    <tr>\n",
       "      <th>2</th>\n",
       "      <td>2022-03-02</td>\n",
       "      <td>3016.979980</td>\n",
       "      <td>3059.989990</td>\n",
       "      <td>2975.000000</td>\n",
       "      <td>3041.050049</td>\n",
       "      <td>3041.050049</td>\n",
       "      <td>2366700</td>\n",
       "    </tr>\n",
       "    <tr>\n",
       "      <th>3</th>\n",
       "      <td>2022-03-03</td>\n",
       "      <td>3070.629883</td>\n",
       "      <td>3078.580078</td>\n",
       "      <td>2937.120117</td>\n",
       "      <td>2957.969971</td>\n",
       "      <td>2957.969971</td>\n",
       "      <td>3259900</td>\n",
       "    </tr>\n",
       "    <tr>\n",
       "      <th>4</th>\n",
       "      <td>2022-03-04</td>\n",
       "      <td>2943.179932</td>\n",
       "      <td>2957.000000</td>\n",
       "      <td>2876.139893</td>\n",
       "      <td>2912.820068</td>\n",
       "      <td>2912.820068</td>\n",
       "      <td>3046700</td>\n",
       "    </tr>\n",
       "  </tbody>\n",
       "</table>\n",
       "</div>"
      ],
      "text/plain": [
       "         Date         Open         High          Low        Close  \\\n",
       "0  2022-02-28  3048.500000  3089.000000  3017.000000  3071.260010   \n",
       "1  2022-03-01  3054.649902  3081.979980  2999.540039  3022.840088   \n",
       "2  2022-03-02  3016.979980  3059.989990  2975.000000  3041.050049   \n",
       "3  2022-03-03  3070.629883  3078.580078  2937.120117  2957.969971   \n",
       "4  2022-03-04  2943.179932  2957.000000  2876.139893  2912.820068   \n",
       "\n",
       "     Adj Close   Volume  \n",
       "0  3071.260010  2878500  \n",
       "1  3022.840088  2243700  \n",
       "2  3041.050049  2366700  \n",
       "3  2957.969971  3259900  \n",
       "4  2912.820068  3046700  "
      ]
     },
     "execution_count": 2,
     "metadata": {},
     "output_type": "execute_result"
    }
   ],
   "source": [
    "amzn.head()"
   ]
  },
  {
   "cell_type": "code",
   "execution_count": 6,
   "id": "incorporate-lobby",
   "metadata": {},
   "outputs": [
    {
     "data": {
      "text/html": [
       "<div>\n",
       "<style scoped>\n",
       "    .dataframe tbody tr th:only-of-type {\n",
       "        vertical-align: middle;\n",
       "    }\n",
       "\n",
       "    .dataframe tbody tr th {\n",
       "        vertical-align: top;\n",
       "    }\n",
       "\n",
       "    .dataframe thead th {\n",
       "        text-align: right;\n",
       "    }\n",
       "</style>\n",
       "<table border=\"1\" class=\"dataframe\">\n",
       "  <thead>\n",
       "    <tr style=\"text-align: right;\">\n",
       "      <th></th>\n",
       "      <th>Date</th>\n",
       "      <th>Open</th>\n",
       "      <th>High</th>\n",
       "      <th>Low</th>\n",
       "      <th>Close</th>\n",
       "      <th>Adj Close</th>\n",
       "      <th>Volume</th>\n",
       "    </tr>\n",
       "  </thead>\n",
       "  <tbody>\n",
       "    <tr>\n",
       "      <th>16</th>\n",
       "      <td>2022-03-22</td>\n",
       "      <td>3236.110107</td>\n",
       "      <td>3323.340088</td>\n",
       "      <td>3233.97998</td>\n",
       "      <td>3297.780029</td>\n",
       "      <td>3297.780029</td>\n",
       "      <td>3204300</td>\n",
       "    </tr>\n",
       "    <tr>\n",
       "      <th>17</th>\n",
       "      <td>2022-03-23</td>\n",
       "      <td>3274.100098</td>\n",
       "      <td>3327.399902</td>\n",
       "      <td>3253.73999</td>\n",
       "      <td>3268.159912</td>\n",
       "      <td>3268.159912</td>\n",
       "      <td>2790600</td>\n",
       "    </tr>\n",
       "    <tr>\n",
       "      <th>18</th>\n",
       "      <td>2022-03-24</td>\n",
       "      <td>3274.989990</td>\n",
       "      <td>3282.370117</td>\n",
       "      <td>3201.00000</td>\n",
       "      <td>3272.989990</td>\n",
       "      <td>3272.989990</td>\n",
       "      <td>2839900</td>\n",
       "    </tr>\n",
       "    <tr>\n",
       "      <th>19</th>\n",
       "      <td>2022-03-25</td>\n",
       "      <td>3280.000000</td>\n",
       "      <td>3307.370117</td>\n",
       "      <td>3245.00000</td>\n",
       "      <td>3295.469971</td>\n",
       "      <td>3295.469971</td>\n",
       "      <td>2451600</td>\n",
       "    </tr>\n",
       "    <tr>\n",
       "      <th>20</th>\n",
       "      <td>2022-03-25</td>\n",
       "      <td>3280.000000</td>\n",
       "      <td>3307.370117</td>\n",
       "      <td>3247.48999</td>\n",
       "      <td>3295.469971</td>\n",
       "      <td>3295.469971</td>\n",
       "      <td>2454275</td>\n",
       "    </tr>\n",
       "  </tbody>\n",
       "</table>\n",
       "</div>"
      ],
      "text/plain": [
       "          Date         Open         High         Low        Close  \\\n",
       "16  2022-03-22  3236.110107  3323.340088  3233.97998  3297.780029   \n",
       "17  2022-03-23  3274.100098  3327.399902  3253.73999  3268.159912   \n",
       "18  2022-03-24  3274.989990  3282.370117  3201.00000  3272.989990   \n",
       "19  2022-03-25  3280.000000  3307.370117  3245.00000  3295.469971   \n",
       "20  2022-03-25  3280.000000  3307.370117  3247.48999  3295.469971   \n",
       "\n",
       "      Adj Close   Volume  \n",
       "16  3297.780029  3204300  \n",
       "17  3268.159912  2790600  \n",
       "18  3272.989990  2839900  \n",
       "19  3295.469971  2451600  \n",
       "20  3295.469971  2454275  "
      ]
     },
     "execution_count": 6,
     "metadata": {},
     "output_type": "execute_result"
    }
   ],
   "source": [
    "amzn.tail()"
   ]
  },
  {
   "cell_type": "code",
   "execution_count": 32,
   "id": "educated-toilet",
   "metadata": {},
   "outputs": [
    {
     "data": {
      "text/html": [
       "<div>\n",
       "<style scoped>\n",
       "    .dataframe tbody tr th:only-of-type {\n",
       "        vertical-align: middle;\n",
       "    }\n",
       "\n",
       "    .dataframe tbody tr th {\n",
       "        vertical-align: top;\n",
       "    }\n",
       "\n",
       "    .dataframe thead th {\n",
       "        text-align: right;\n",
       "    }\n",
       "</style>\n",
       "<table border=\"1\" class=\"dataframe\">\n",
       "  <thead>\n",
       "    <tr style=\"text-align: right;\">\n",
       "      <th></th>\n",
       "      <th>Open</th>\n",
       "      <th>High</th>\n",
       "      <th>Low</th>\n",
       "      <th>Close</th>\n",
       "      <th>Adj Close</th>\n",
       "      <th>Volume</th>\n",
       "    </tr>\n",
       "  </thead>\n",
       "  <tbody>\n",
       "    <tr>\n",
       "      <th>count</th>\n",
       "      <td>21.000000</td>\n",
       "      <td>21.000000</td>\n",
       "      <td>21.000000</td>\n",
       "      <td>21.000000</td>\n",
       "      <td>21.000000</td>\n",
       "      <td>2.100000e+01</td>\n",
       "    </tr>\n",
       "    <tr>\n",
       "      <th>mean</th>\n",
       "      <td>3046.427618</td>\n",
       "      <td>3092.261905</td>\n",
       "      <td>2994.672387</td>\n",
       "      <td>3046.841460</td>\n",
       "      <td>3046.841460</td>\n",
       "      <td>3.554223e+06</td>\n",
       "    </tr>\n",
       "    <tr>\n",
       "      <th>std</th>\n",
       "      <td>167.536466</td>\n",
       "      <td>167.381715</td>\n",
       "      <td>184.203670</td>\n",
       "      <td>191.979708</td>\n",
       "      <td>191.979708</td>\n",
       "      <td>1.071691e+06</td>\n",
       "    </tr>\n",
       "    <tr>\n",
       "      <th>min</th>\n",
       "      <td>2733.669922</td>\n",
       "      <td>2805.000000</td>\n",
       "      <td>2671.449951</td>\n",
       "      <td>2720.290039</td>\n",
       "      <td>2720.290039</td>\n",
       "      <td>2.243700e+06</td>\n",
       "    </tr>\n",
       "    <tr>\n",
       "      <th>25%</th>\n",
       "      <td>2919.620117</td>\n",
       "      <td>2959.699951</td>\n",
       "      <td>2876.139893</td>\n",
       "      <td>2912.820068</td>\n",
       "      <td>2912.820068</td>\n",
       "      <td>2.839900e+06</td>\n",
       "    </tr>\n",
       "    <tr>\n",
       "      <th>50%</th>\n",
       "      <td>3048.500000</td>\n",
       "      <td>3078.580078</td>\n",
       "      <td>2975.000000</td>\n",
       "      <td>3041.050049</td>\n",
       "      <td>3041.050049</td>\n",
       "      <td>3.326900e+06</td>\n",
       "    </tr>\n",
       "    <tr>\n",
       "      <th>75%</th>\n",
       "      <td>3222.419922</td>\n",
       "      <td>3261.679932</td>\n",
       "      <td>3191.060059</td>\n",
       "      <td>3229.830078</td>\n",
       "      <td>3229.830078</td>\n",
       "      <td>4.132800e+06</td>\n",
       "    </tr>\n",
       "    <tr>\n",
       "      <th>max</th>\n",
       "      <td>3280.000000</td>\n",
       "      <td>3327.399902</td>\n",
       "      <td>3253.739990</td>\n",
       "      <td>3297.780029</td>\n",
       "      <td>3297.780029</td>\n",
       "      <td>6.753100e+06</td>\n",
       "    </tr>\n",
       "  </tbody>\n",
       "</table>\n",
       "</div>"
      ],
      "text/plain": [
       "              Open         High          Low        Close    Adj Close  \\\n",
       "count    21.000000    21.000000    21.000000    21.000000    21.000000   \n",
       "mean   3046.427618  3092.261905  2994.672387  3046.841460  3046.841460   \n",
       "std     167.536466   167.381715   184.203670   191.979708   191.979708   \n",
       "min    2733.669922  2805.000000  2671.449951  2720.290039  2720.290039   \n",
       "25%    2919.620117  2959.699951  2876.139893  2912.820068  2912.820068   \n",
       "50%    3048.500000  3078.580078  2975.000000  3041.050049  3041.050049   \n",
       "75%    3222.419922  3261.679932  3191.060059  3229.830078  3229.830078   \n",
       "max    3280.000000  3327.399902  3253.739990  3297.780029  3297.780029   \n",
       "\n",
       "             Volume  \n",
       "count  2.100000e+01  \n",
       "mean   3.554223e+06  \n",
       "std    1.071691e+06  \n",
       "min    2.243700e+06  \n",
       "25%    2.839900e+06  \n",
       "50%    3.326900e+06  \n",
       "75%    4.132800e+06  \n",
       "max    6.753100e+06  "
      ]
     },
     "execution_count": 32,
     "metadata": {},
     "output_type": "execute_result"
    }
   ],
   "source": [
    "amzn.describe()"
   ]
  },
  {
   "cell_type": "code",
   "execution_count": 7,
   "id": "narrow-parker",
   "metadata": {},
   "outputs": [
    {
     "data": {
      "text/plain": [
       "Date          object\n",
       "Open         float64\n",
       "High         float64\n",
       "Low          float64\n",
       "Close        float64\n",
       "Adj Close    float64\n",
       "Volume         int64\n",
       "dtype: object"
      ]
     },
     "execution_count": 7,
     "metadata": {},
     "output_type": "execute_result"
    }
   ],
   "source": [
    "amzn.dtypes"
   ]
  },
  {
   "cell_type": "code",
   "execution_count": 34,
   "id": "funky-tobacco",
   "metadata": {},
   "outputs": [
    {
     "data": {
      "text/html": [
       "<div>\n",
       "<style scoped>\n",
       "    .dataframe tbody tr th:only-of-type {\n",
       "        vertical-align: middle;\n",
       "    }\n",
       "\n",
       "    .dataframe tbody tr th {\n",
       "        vertical-align: top;\n",
       "    }\n",
       "\n",
       "    .dataframe thead th {\n",
       "        text-align: right;\n",
       "    }\n",
       "</style>\n",
       "<table border=\"1\" class=\"dataframe\">\n",
       "  <thead>\n",
       "    <tr style=\"text-align: right;\">\n",
       "      <th></th>\n",
       "      <th>Date</th>\n",
       "      <th>Open</th>\n",
       "      <th>High</th>\n",
       "      <th>Low</th>\n",
       "      <th>Close</th>\n",
       "      <th>Adj Close</th>\n",
       "      <th>Volume</th>\n",
       "    </tr>\n",
       "  </thead>\n",
       "  <tbody>\n",
       "    <tr>\n",
       "      <th>0</th>\n",
       "      <td>2022-02-28</td>\n",
       "      <td>3048.500000</td>\n",
       "      <td>3089.000000</td>\n",
       "      <td>3017.000000</td>\n",
       "      <td>3071.260010</td>\n",
       "      <td>3071.260010</td>\n",
       "      <td>2878500</td>\n",
       "    </tr>\n",
       "    <tr>\n",
       "      <th>1</th>\n",
       "      <td>2022-03-01</td>\n",
       "      <td>3054.649902</td>\n",
       "      <td>3081.979980</td>\n",
       "      <td>2999.540039</td>\n",
       "      <td>3022.840088</td>\n",
       "      <td>3022.840088</td>\n",
       "      <td>2243700</td>\n",
       "    </tr>\n",
       "    <tr>\n",
       "      <th>2</th>\n",
       "      <td>2022-03-02</td>\n",
       "      <td>3016.979980</td>\n",
       "      <td>3059.989990</td>\n",
       "      <td>2975.000000</td>\n",
       "      <td>3041.050049</td>\n",
       "      <td>3041.050049</td>\n",
       "      <td>2366700</td>\n",
       "    </tr>\n",
       "    <tr>\n",
       "      <th>3</th>\n",
       "      <td>2022-03-03</td>\n",
       "      <td>3070.629883</td>\n",
       "      <td>3078.580078</td>\n",
       "      <td>2937.120117</td>\n",
       "      <td>2957.969971</td>\n",
       "      <td>2957.969971</td>\n",
       "      <td>3259900</td>\n",
       "    </tr>\n",
       "    <tr>\n",
       "      <th>4</th>\n",
       "      <td>2022-03-04</td>\n",
       "      <td>2943.179932</td>\n",
       "      <td>2957.000000</td>\n",
       "      <td>2876.139893</td>\n",
       "      <td>2912.820068</td>\n",
       "      <td>2912.820068</td>\n",
       "      <td>3046700</td>\n",
       "    </tr>\n",
       "  </tbody>\n",
       "</table>\n",
       "</div>"
      ],
      "text/plain": [
       "         Date         Open         High          Low        Close  \\\n",
       "0  2022-02-28  3048.500000  3089.000000  3017.000000  3071.260010   \n",
       "1  2022-03-01  3054.649902  3081.979980  2999.540039  3022.840088   \n",
       "2  2022-03-02  3016.979980  3059.989990  2975.000000  3041.050049   \n",
       "3  2022-03-03  3070.629883  3078.580078  2937.120117  2957.969971   \n",
       "4  2022-03-04  2943.179932  2957.000000  2876.139893  2912.820068   \n",
       "\n",
       "     Adj Close   Volume  \n",
       "0  3071.260010  2878500  \n",
       "1  3022.840088  2243700  \n",
       "2  3041.050049  2366700  \n",
       "3  2957.969971  3259900  \n",
       "4  2912.820068  3046700  "
      ]
     },
     "execution_count": 34,
     "metadata": {},
     "output_type": "execute_result"
    }
   ],
   "source": [
    "amzn = amzn.replace({'\\$':''}, regex = True)\n",
    "amzn.head()"
   ]
  },
  {
   "cell_type": "code",
   "execution_count": 4,
   "id": "resident-boxing",
   "metadata": {},
   "outputs": [
    {
     "data": {
      "text/plain": [
       "Date          object\n",
       "Open         float64\n",
       "High         float64\n",
       "Low          float64\n",
       "Close        float64\n",
       "Adj Close    float64\n",
       "Volume         int32\n",
       "dtype: object"
      ]
     },
     "execution_count": 4,
     "metadata": {},
     "output_type": "execute_result"
    }
   ],
   "source": [
    "df = amzn\n",
    "# df.columns = ['Date', 'Open', 'High', 'Low', 'Close','Adj Close', 'Volume']\n",
    "df = df.astype({\"Close\": float, \"Volume\": int, \"Open\": float, \"High\": float, \"Low\": float})\n",
    "df.dtypes"
   ]
  },
  {
   "cell_type": "code",
   "execution_count": 36,
   "id": "necessary-column",
   "metadata": {},
   "outputs": [
    {
     "data": {
      "text/html": [
       "<div>\n",
       "<style scoped>\n",
       "    .dataframe tbody tr th:only-of-type {\n",
       "        vertical-align: middle;\n",
       "    }\n",
       "\n",
       "    .dataframe tbody tr th {\n",
       "        vertical-align: top;\n",
       "    }\n",
       "\n",
       "    .dataframe thead th {\n",
       "        text-align: right;\n",
       "    }\n",
       "</style>\n",
       "<table border=\"1\" class=\"dataframe\">\n",
       "  <thead>\n",
       "    <tr style=\"text-align: right;\">\n",
       "      <th></th>\n",
       "      <th>Date</th>\n",
       "      <th>Open</th>\n",
       "      <th>High</th>\n",
       "      <th>Low</th>\n",
       "      <th>Close</th>\n",
       "      <th>Adj Close</th>\n",
       "      <th>Volume</th>\n",
       "    </tr>\n",
       "  </thead>\n",
       "  <tbody>\n",
       "    <tr>\n",
       "      <th>0</th>\n",
       "      <td>2022-02-28</td>\n",
       "      <td>3048.500000</td>\n",
       "      <td>3089.000000</td>\n",
       "      <td>3017.000000</td>\n",
       "      <td>3071.260010</td>\n",
       "      <td>3071.260010</td>\n",
       "      <td>2878500</td>\n",
       "    </tr>\n",
       "    <tr>\n",
       "      <th>1</th>\n",
       "      <td>2022-03-01</td>\n",
       "      <td>3054.649902</td>\n",
       "      <td>3081.979980</td>\n",
       "      <td>2999.540039</td>\n",
       "      <td>3022.840088</td>\n",
       "      <td>3022.840088</td>\n",
       "      <td>2243700</td>\n",
       "    </tr>\n",
       "    <tr>\n",
       "      <th>2</th>\n",
       "      <td>2022-03-02</td>\n",
       "      <td>3016.979980</td>\n",
       "      <td>3059.989990</td>\n",
       "      <td>2975.000000</td>\n",
       "      <td>3041.050049</td>\n",
       "      <td>3041.050049</td>\n",
       "      <td>2366700</td>\n",
       "    </tr>\n",
       "    <tr>\n",
       "      <th>3</th>\n",
       "      <td>2022-03-03</td>\n",
       "      <td>3070.629883</td>\n",
       "      <td>3078.580078</td>\n",
       "      <td>2937.120117</td>\n",
       "      <td>2957.969971</td>\n",
       "      <td>2957.969971</td>\n",
       "      <td>3259900</td>\n",
       "    </tr>\n",
       "    <tr>\n",
       "      <th>4</th>\n",
       "      <td>2022-03-04</td>\n",
       "      <td>2943.179932</td>\n",
       "      <td>2957.000000</td>\n",
       "      <td>2876.139893</td>\n",
       "      <td>2912.820068</td>\n",
       "      <td>2912.820068</td>\n",
       "      <td>3046700</td>\n",
       "    </tr>\n",
       "  </tbody>\n",
       "</table>\n",
       "</div>"
      ],
      "text/plain": [
       "         Date         Open         High          Low        Close  \\\n",
       "0  2022-02-28  3048.500000  3089.000000  3017.000000  3071.260010   \n",
       "1  2022-03-01  3054.649902  3081.979980  2999.540039  3022.840088   \n",
       "2  2022-03-02  3016.979980  3059.989990  2975.000000  3041.050049   \n",
       "3  2022-03-03  3070.629883  3078.580078  2937.120117  2957.969971   \n",
       "4  2022-03-04  2943.179932  2957.000000  2876.139893  2912.820068   \n",
       "\n",
       "     Adj Close   Volume  \n",
       "0  3071.260010  2878500  \n",
       "1  3022.840088  2243700  \n",
       "2  3041.050049  2366700  \n",
       "3  2957.969971  3259900  \n",
       "4  2912.820068  3046700  "
      ]
     },
     "execution_count": 36,
     "metadata": {},
     "output_type": "execute_result"
    }
   ],
   "source": [
    "df.head()"
   ]
  },
  {
   "cell_type": "code",
   "execution_count": 37,
   "id": "valuable-prophet",
   "metadata": {},
   "outputs": [
    {
     "data": {
      "text/html": [
       "<div>\n",
       "<style scoped>\n",
       "    .dataframe tbody tr th:only-of-type {\n",
       "        vertical-align: middle;\n",
       "    }\n",
       "\n",
       "    .dataframe tbody tr th {\n",
       "        vertical-align: top;\n",
       "    }\n",
       "\n",
       "    .dataframe thead th {\n",
       "        text-align: right;\n",
       "    }\n",
       "</style>\n",
       "<table border=\"1\" class=\"dataframe\">\n",
       "  <thead>\n",
       "    <tr style=\"text-align: right;\">\n",
       "      <th></th>\n",
       "      <th>Open</th>\n",
       "      <th>High</th>\n",
       "      <th>Low</th>\n",
       "      <th>Close</th>\n",
       "      <th>Adj Close</th>\n",
       "      <th>Volume</th>\n",
       "    </tr>\n",
       "  </thead>\n",
       "  <tbody>\n",
       "    <tr>\n",
       "      <th>count</th>\n",
       "      <td>21.000000</td>\n",
       "      <td>21.000000</td>\n",
       "      <td>21.000000</td>\n",
       "      <td>21.000000</td>\n",
       "      <td>21.000000</td>\n",
       "      <td>2.100000e+01</td>\n",
       "    </tr>\n",
       "    <tr>\n",
       "      <th>mean</th>\n",
       "      <td>3046.427618</td>\n",
       "      <td>3092.261905</td>\n",
       "      <td>2994.672387</td>\n",
       "      <td>3046.841460</td>\n",
       "      <td>3046.841460</td>\n",
       "      <td>3.554223e+06</td>\n",
       "    </tr>\n",
       "    <tr>\n",
       "      <th>std</th>\n",
       "      <td>167.536466</td>\n",
       "      <td>167.381715</td>\n",
       "      <td>184.203670</td>\n",
       "      <td>191.979708</td>\n",
       "      <td>191.979708</td>\n",
       "      <td>1.071691e+06</td>\n",
       "    </tr>\n",
       "    <tr>\n",
       "      <th>min</th>\n",
       "      <td>2733.669922</td>\n",
       "      <td>2805.000000</td>\n",
       "      <td>2671.449951</td>\n",
       "      <td>2720.290039</td>\n",
       "      <td>2720.290039</td>\n",
       "      <td>2.243700e+06</td>\n",
       "    </tr>\n",
       "    <tr>\n",
       "      <th>25%</th>\n",
       "      <td>2919.620117</td>\n",
       "      <td>2959.699951</td>\n",
       "      <td>2876.139893</td>\n",
       "      <td>2912.820068</td>\n",
       "      <td>2912.820068</td>\n",
       "      <td>2.839900e+06</td>\n",
       "    </tr>\n",
       "    <tr>\n",
       "      <th>50%</th>\n",
       "      <td>3048.500000</td>\n",
       "      <td>3078.580078</td>\n",
       "      <td>2975.000000</td>\n",
       "      <td>3041.050049</td>\n",
       "      <td>3041.050049</td>\n",
       "      <td>3.326900e+06</td>\n",
       "    </tr>\n",
       "    <tr>\n",
       "      <th>75%</th>\n",
       "      <td>3222.419922</td>\n",
       "      <td>3261.679932</td>\n",
       "      <td>3191.060059</td>\n",
       "      <td>3229.830078</td>\n",
       "      <td>3229.830078</td>\n",
       "      <td>4.132800e+06</td>\n",
       "    </tr>\n",
       "    <tr>\n",
       "      <th>max</th>\n",
       "      <td>3280.000000</td>\n",
       "      <td>3327.399902</td>\n",
       "      <td>3253.739990</td>\n",
       "      <td>3297.780029</td>\n",
       "      <td>3297.780029</td>\n",
       "      <td>6.753100e+06</td>\n",
       "    </tr>\n",
       "  </tbody>\n",
       "</table>\n",
       "</div>"
      ],
      "text/plain": [
       "              Open         High          Low        Close    Adj Close  \\\n",
       "count    21.000000    21.000000    21.000000    21.000000    21.000000   \n",
       "mean   3046.427618  3092.261905  2994.672387  3046.841460  3046.841460   \n",
       "std     167.536466   167.381715   184.203670   191.979708   191.979708   \n",
       "min    2733.669922  2805.000000  2671.449951  2720.290039  2720.290039   \n",
       "25%    2919.620117  2959.699951  2876.139893  2912.820068  2912.820068   \n",
       "50%    3048.500000  3078.580078  2975.000000  3041.050049  3041.050049   \n",
       "75%    3222.419922  3261.679932  3191.060059  3229.830078  3229.830078   \n",
       "max    3280.000000  3327.399902  3253.739990  3297.780029  3297.780029   \n",
       "\n",
       "             Volume  \n",
       "count  2.100000e+01  \n",
       "mean   3.554223e+06  \n",
       "std    1.071691e+06  \n",
       "min    2.243700e+06  \n",
       "25%    2.839900e+06  \n",
       "50%    3.326900e+06  \n",
       "75%    4.132800e+06  \n",
       "max    6.753100e+06  "
      ]
     },
     "execution_count": 37,
     "metadata": {},
     "output_type": "execute_result"
    }
   ],
   "source": [
    "df.describe()"
   ]
  },
  {
   "cell_type": "code",
   "execution_count": 6,
   "id": "limiting-jason",
   "metadata": {},
   "outputs": [
    {
     "data": {
      "text/html": [
       "<div>\n",
       "<style scoped>\n",
       "    .dataframe tbody tr th:only-of-type {\n",
       "        vertical-align: middle;\n",
       "    }\n",
       "\n",
       "    .dataframe tbody tr th {\n",
       "        vertical-align: top;\n",
       "    }\n",
       "\n",
       "    .dataframe thead th {\n",
       "        text-align: right;\n",
       "    }\n",
       "</style>\n",
       "<table border=\"1\" class=\"dataframe\">\n",
       "  <thead>\n",
       "    <tr style=\"text-align: right;\">\n",
       "      <th></th>\n",
       "      <th>Date</th>\n",
       "      <th>Volume</th>\n",
       "    </tr>\n",
       "  </thead>\n",
       "  <tbody>\n",
       "    <tr>\n",
       "      <th>count</th>\n",
       "      <td>21</td>\n",
       "      <td>2.100000e+01</td>\n",
       "    </tr>\n",
       "    <tr>\n",
       "      <th>unique</th>\n",
       "      <td>20</td>\n",
       "      <td>NaN</td>\n",
       "    </tr>\n",
       "    <tr>\n",
       "      <th>top</th>\n",
       "      <td>2022-03-25</td>\n",
       "      <td>NaN</td>\n",
       "    </tr>\n",
       "    <tr>\n",
       "      <th>freq</th>\n",
       "      <td>2</td>\n",
       "      <td>NaN</td>\n",
       "    </tr>\n",
       "    <tr>\n",
       "      <th>mean</th>\n",
       "      <td>NaN</td>\n",
       "      <td>3.554223e+06</td>\n",
       "    </tr>\n",
       "    <tr>\n",
       "      <th>std</th>\n",
       "      <td>NaN</td>\n",
       "      <td>1.071691e+06</td>\n",
       "    </tr>\n",
       "    <tr>\n",
       "      <th>min</th>\n",
       "      <td>NaN</td>\n",
       "      <td>2.243700e+06</td>\n",
       "    </tr>\n",
       "    <tr>\n",
       "      <th>25%</th>\n",
       "      <td>NaN</td>\n",
       "      <td>2.839900e+06</td>\n",
       "    </tr>\n",
       "    <tr>\n",
       "      <th>50%</th>\n",
       "      <td>NaN</td>\n",
       "      <td>3.326900e+06</td>\n",
       "    </tr>\n",
       "    <tr>\n",
       "      <th>75%</th>\n",
       "      <td>NaN</td>\n",
       "      <td>4.132800e+06</td>\n",
       "    </tr>\n",
       "    <tr>\n",
       "      <th>max</th>\n",
       "      <td>NaN</td>\n",
       "      <td>6.753100e+06</td>\n",
       "    </tr>\n",
       "  </tbody>\n",
       "</table>\n",
       "</div>"
      ],
      "text/plain": [
       "              Date        Volume\n",
       "count           21  2.100000e+01\n",
       "unique          20           NaN\n",
       "top     2022-03-25           NaN\n",
       "freq             2           NaN\n",
       "mean           NaN  3.554223e+06\n",
       "std            NaN  1.071691e+06\n",
       "min            NaN  2.243700e+06\n",
       "25%            NaN  2.839900e+06\n",
       "50%            NaN  3.326900e+06\n",
       "75%            NaN  4.132800e+06\n",
       "max            NaN  6.753100e+06"
      ]
     },
     "execution_count": 6,
     "metadata": {},
     "output_type": "execute_result"
    }
   ],
   "source": [
    "# df.describe(include = \"float\")\n",
    "df.describe(exclude = \"float\")"
   ]
  },
  {
   "cell_type": "code",
   "execution_count": 8,
   "id": "norwegian-emission",
   "metadata": {},
   "outputs": [
    {
     "data": {
      "text/html": [
       "<div>\n",
       "<style scoped>\n",
       "    .dataframe tbody tr th:only-of-type {\n",
       "        vertical-align: middle;\n",
       "    }\n",
       "\n",
       "    .dataframe tbody tr th {\n",
       "        vertical-align: top;\n",
       "    }\n",
       "\n",
       "    .dataframe thead th {\n",
       "        text-align: right;\n",
       "    }\n",
       "</style>\n",
       "<table border=\"1\" class=\"dataframe\">\n",
       "  <thead>\n",
       "    <tr style=\"text-align: right;\">\n",
       "      <th></th>\n",
       "      <th>Open</th>\n",
       "      <th>High</th>\n",
       "      <th>Low</th>\n",
       "      <th>Close</th>\n",
       "      <th>Adj Close</th>\n",
       "      <th>Volume</th>\n",
       "    </tr>\n",
       "  </thead>\n",
       "  <tbody>\n",
       "    <tr>\n",
       "      <th>count</th>\n",
       "      <td>21.000000</td>\n",
       "      <td>21.000000</td>\n",
       "      <td>21.000000</td>\n",
       "      <td>21.000000</td>\n",
       "      <td>21.000000</td>\n",
       "      <td>2.100000e+01</td>\n",
       "    </tr>\n",
       "    <tr>\n",
       "      <th>mean</th>\n",
       "      <td>3046.427618</td>\n",
       "      <td>3092.261905</td>\n",
       "      <td>2994.672387</td>\n",
       "      <td>3046.841460</td>\n",
       "      <td>3046.841460</td>\n",
       "      <td>3.554223e+06</td>\n",
       "    </tr>\n",
       "    <tr>\n",
       "      <th>std</th>\n",
       "      <td>167.536466</td>\n",
       "      <td>167.381715</td>\n",
       "      <td>184.203670</td>\n",
       "      <td>191.979708</td>\n",
       "      <td>191.979708</td>\n",
       "      <td>1.071691e+06</td>\n",
       "    </tr>\n",
       "    <tr>\n",
       "      <th>min</th>\n",
       "      <td>2733.669922</td>\n",
       "      <td>2805.000000</td>\n",
       "      <td>2671.449951</td>\n",
       "      <td>2720.290039</td>\n",
       "      <td>2720.290039</td>\n",
       "      <td>2.243700e+06</td>\n",
       "    </tr>\n",
       "    <tr>\n",
       "      <th>10%</th>\n",
       "      <td>2857.000000</td>\n",
       "      <td>2921.889893</td>\n",
       "      <td>2748.330078</td>\n",
       "      <td>2785.580078</td>\n",
       "      <td>2785.580078</td>\n",
       "      <td>2.451600e+06</td>\n",
       "    </tr>\n",
       "    <tr>\n",
       "      <th>50%</th>\n",
       "      <td>3048.500000</td>\n",
       "      <td>3078.580078</td>\n",
       "      <td>2975.000000</td>\n",
       "      <td>3041.050049</td>\n",
       "      <td>3041.050049</td>\n",
       "      <td>3.326900e+06</td>\n",
       "    </tr>\n",
       "    <tr>\n",
       "      <th>90%</th>\n",
       "      <td>3274.989990</td>\n",
       "      <td>3307.370117</td>\n",
       "      <td>3245.000000</td>\n",
       "      <td>3295.469971</td>\n",
       "      <td>3295.469971</td>\n",
       "      <td>4.583100e+06</td>\n",
       "    </tr>\n",
       "    <tr>\n",
       "      <th>max</th>\n",
       "      <td>3280.000000</td>\n",
       "      <td>3327.399902</td>\n",
       "      <td>3253.739990</td>\n",
       "      <td>3297.780029</td>\n",
       "      <td>3297.780029</td>\n",
       "      <td>6.753100e+06</td>\n",
       "    </tr>\n",
       "  </tbody>\n",
       "</table>\n",
       "</div>"
      ],
      "text/plain": [
       "              Open         High          Low        Close    Adj Close  \\\n",
       "count    21.000000    21.000000    21.000000    21.000000    21.000000   \n",
       "mean   3046.427618  3092.261905  2994.672387  3046.841460  3046.841460   \n",
       "std     167.536466   167.381715   184.203670   191.979708   191.979708   \n",
       "min    2733.669922  2805.000000  2671.449951  2720.290039  2720.290039   \n",
       "10%    2857.000000  2921.889893  2748.330078  2785.580078  2785.580078   \n",
       "50%    3048.500000  3078.580078  2975.000000  3041.050049  3041.050049   \n",
       "90%    3274.989990  3307.370117  3245.000000  3295.469971  3295.469971   \n",
       "max    3280.000000  3327.399902  3253.739990  3297.780029  3297.780029   \n",
       "\n",
       "             Volume  \n",
       "count  2.100000e+01  \n",
       "mean   3.554223e+06  \n",
       "std    1.071691e+06  \n",
       "min    2.243700e+06  \n",
       "10%    2.451600e+06  \n",
       "50%    3.326900e+06  \n",
       "90%    4.583100e+06  \n",
       "max    6.753100e+06  "
      ]
     },
     "execution_count": 8,
     "metadata": {},
     "output_type": "execute_result"
    }
   ],
   "source": [
    "df.describe(percentiles = [0.1, 0.5, 0.9])\n",
    "# df.describe(percentiles = [0.1, 0.5, 0.9])['Close']"
   ]
  },
  {
   "cell_type": "code",
   "execution_count": 9,
   "id": "bored-paintball",
   "metadata": {},
   "outputs": [],
   "source": [
    "# Filtering the data\n",
    "# Comparison Operators\n",
    "# <  >  <=  >=  ==  !=\n",
    "# We will use these operators to compare a specific value to values in the column.\n",
    "# The result will be a series of booleans: True and Falses. \n",
    "# True if the comparison is right, false if the comparison is not right.\n",
    "# Masking by closing price\n",
    "# When we pass a boolean series to a dataframe using loc[] operator, \n",
    "# a new dataframe will be returned containing only the True values.\n",
    "mask_closeprice = df.Close > 3000\n",
    "# mask_closeprice\n",
    "high_price = df.loc[mask_closeprice]\n",
    "high_price.head()\n",
    "high_price.to_csv('HighPriceOver3000.csv')"
   ]
  },
  {
   "cell_type": "code",
   "execution_count": 10,
   "id": "exclusive-interface",
   "metadata": {},
   "outputs": [
    {
     "data": {
      "text/html": [
       "<div>\n",
       "<style scoped>\n",
       "    .dataframe tbody tr th:only-of-type {\n",
       "        vertical-align: middle;\n",
       "    }\n",
       "\n",
       "    .dataframe tbody tr th {\n",
       "        vertical-align: top;\n",
       "    }\n",
       "\n",
       "    .dataframe thead th {\n",
       "        text-align: right;\n",
       "    }\n",
       "</style>\n",
       "<table border=\"1\" class=\"dataframe\">\n",
       "  <thead>\n",
       "    <tr style=\"text-align: right;\">\n",
       "      <th></th>\n",
       "      <th>Date</th>\n",
       "      <th>Open</th>\n",
       "      <th>High</th>\n",
       "      <th>Low</th>\n",
       "      <th>Close</th>\n",
       "      <th>Adj Close</th>\n",
       "      <th>Volume</th>\n",
       "    </tr>\n",
       "  </thead>\n",
       "  <tbody>\n",
       "    <tr>\n",
       "      <th>14</th>\n",
       "      <td>2022-03-18</td>\n",
       "      <td>3136.26001</td>\n",
       "      <td>3231.879883</td>\n",
       "      <td>3120.219971</td>\n",
       "      <td>3225.01001</td>\n",
       "      <td>3225.01001</td>\n",
       "      <td>5141300</td>\n",
       "    </tr>\n",
       "  </tbody>\n",
       "</table>\n",
       "</div>"
      ],
      "text/plain": [
       "          Date        Open         High          Low       Close   Adj Close  \\\n",
       "14  2022-03-18  3136.26001  3231.879883  3120.219971  3225.01001  3225.01001   \n",
       "\n",
       "     Volume  \n",
       "14  5141300  "
      ]
     },
     "execution_count": 10,
     "metadata": {},
     "output_type": "execute_result"
    }
   ],
   "source": [
    "mask_closeprice = df.Close > 3000\n",
    "mask_volume = df.Volume > 5000000\n",
    "high_price_volume = df.loc[mask_closeprice & mask_volume]\n",
    "high_price_volume.head()"
   ]
  },
  {
   "cell_type": "code",
   "execution_count": 42,
   "id": "palestinian-services",
   "metadata": {},
   "outputs": [
    {
     "data": {
      "text/plain": [
       "<AxesSubplot:xlabel='Date'>"
      ]
     },
     "execution_count": 42,
     "metadata": {},
     "output_type": "execute_result"
    },
    {
     "data": {
      "image/png": "[encoded data removed]",
      "text/plain": [
       "<Figure size 432x288 with 1 Axes>"
      ]
     },
     "metadata": {
      "needs_background": "light"
     },
     "output_type": "display_data"
    }
   ],
   "source": [
    "# Visualizing the data:\n",
    "df.plot(x='Date', y='Close')"
   ]
  },
  {
   "cell_type": "code",
   "execution_count": 43,
   "id": "narrative-coordination",
   "metadata": {},
   "outputs": [
    {
     "data": {
      "text/plain": [
       "<AxesSubplot:xlabel='Date'>"
      ]
     },
     "execution_count": 43,
     "metadata": {},
     "output_type": "execute_result"
    },
    {
     "data": {
      "image/png": "[encoded data removed]",
      "text/plain": [
       "<Figure size 432x288 with 1 Axes>"
      ]
     },
     "metadata": {
      "needs_background": "light"
     },
     "output_type": "display_data"
    }
   ],
   "source": [
    "df.plot(x='Date', y='Close', rot=90)"
   ]
  },
  {
   "cell_type": "code",
   "execution_count": 14,
   "id": "potential-ending",
   "metadata": {},
   "outputs": [
    {
     "data": {
      "text/plain": [
       "<AxesSubplot:title={'center':'AMZN Stock Price'}, xlabel='Date'>"
      ]
     },
     "execution_count": 14,
     "metadata": {},
     "output_type": "execute_result"
    },
    {
     "data": {
      "image/png": "[encoded data removed]",
      "text/plain": [
       "<Figure size 432x288 with 1 Axes>"
      ]
     },
     "metadata": {
      "needs_background": "light"
     },
     "output_type": "display_data"
    }
   ],
   "source": [
    "df.plot(x='Date', y='Close', rot=90, title=\"AMZN Stock Price\")"
   ]
  },
  {
   "cell_type": "code",
   "execution_count": 45,
   "id": "desirable-entity",
   "metadata": {},
   "outputs": [
    {
     "data": {
      "text/plain": [
       "<AxesSubplot:title={'center':'AMZN Stock Price'}, xlabel='Date', ylabel='Close'>"
      ]
     },
     "execution_count": 45,
     "metadata": {},
     "output_type": "execute_result"
    },
    {
     "data": {
      "image/png": "[encoded data removed]",
      "text/plain": [
       "<Figure size 432x288 with 1 Axes>"
      ]
     },
     "metadata": {
      "needs_background": "light"
     },
     "output_type": "display_data"
    }
   ],
   "source": [
    "df.plot(x='Date', y='Close', kind='scatter',\\ rot=90, title=\"AMZN Stock Price\")"
   ]
  },
  {
   "cell_type": "code",
   "execution_count": 46,
   "id": "infrared-reminder",
   "metadata": {},
   "outputs": [
    {
     "data": {
      "text/plain": [
       "<AxesSubplot:title={'center':'AMZN Stock Price'}, ylabel='Frequency'>"
      ]
     },
     "execution_count": 46,
     "metadata": {},
     "output_type": "execute_result"
    },
    {
     "data": {
      "image/png": "[encoded data removed]",
      "text/plain": [
       "<Figure size 432x288 with 1 Axes>"
      ]
     },
     "metadata": {
      "needs_background": "light"
     },
     "output_type": "display_data"
    }
   ],
   "source": [
    "df.plot(x='Date', y='Volume', kind='hist', rot=90, title=\"AMZN Stock Price\")"
   ]
  },
  {
   "cell_type": "code",
   "execution_count": 22,
   "id": "c77bbc5b",
   "metadata": {},
   "outputs": [],
   "source": [
    "# Ex Class\n",
    "mask_closeprice = df.Low >= 2900\n",
    "mask_volume = df.Low <=3000\n",
    "high_price_volume = df.loc[mask_closeprice & mask_volume]\n",
    "high_price_volume.to_csv('LowBetween2900To3000.csv')"
   ]
  },
  {
   "cell_type": "code",
   "execution_count": 21,
   "id": "efc60648",
   "metadata": {},
   "outputs": [
    {
     "name": "stdout",
     "output_type": "stream",
     "text": [
      "Max=2999.540039 ; Min=2907.379883 Diff=92.16015599999992\n"
     ]
    }
   ],
   "source": [
    "Max=max(high_price_volume.Low)\n",
    "Min=min(high_price_volume.Low)\n",
    "print(f'Max={Max} ; Min={Min} ; Diff={Max-Min}')"
   ]
  }
 ],
 "metadata": {
  "kernelspec": {
   "display_name": "Python 3",
   "language": "python",
   "name": "python3"
  },
  "language_info": {
   "codemirror_mode": {
    "name": "ipython",
    "version": 3
   },
   "file_extension": ".py",
   "mimetype": "text/x-python",
   "name": "python",
   "nbconvert_exporter": "python",
   "pygments_lexer": "ipython3",
   "version": "3.8.8"
  }
 },
 "nbformat": 4,
 "nbformat_minor": 5
}
